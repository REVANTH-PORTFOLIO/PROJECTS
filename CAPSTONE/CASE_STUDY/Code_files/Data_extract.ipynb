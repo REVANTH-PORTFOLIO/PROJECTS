{
  "nbformat": 4,
  "nbformat_minor": 0,
  "metadata": {
    "colab": {
      "private_outputs": true,
      "provenance": []
    },
    "kernelspec": {
      "name": "python3",
      "display_name": "Python 3"
    },
    "language_info": {
      "name": "python"
    }
  },
  "cells": [
    {
      "cell_type": "code",
      "execution_count": null,
      "metadata": {
        "id": "eV2_qcFtwXIY"
      },
      "outputs": [],
      "source": [
        "import pandas as pd;\n",
        "import os;"
      ]
    },
    {
      "cell_type": "code",
      "source": [
        "df=pd.read_csv('/content/202101-divvy-tripdata.csv')\n",
        "print(df)"
      ],
      "metadata": {
        "id": "1EtjIiK8weea"
      },
      "execution_count": null,
      "outputs": []
    },
    {
      "cell_type": "code",
      "source": [
        "df.isnull().sum()"
      ],
      "metadata": {
        "id": "9xkZqHjlwj8q"
      },
      "execution_count": null,
      "outputs": []
    },
    {
      "cell_type": "code",
      "source": [
        "df.isnull().sum()"
      ],
      "metadata": {
        "id": "Ihq49xObxOfD"
      },
      "execution_count": null,
      "outputs": []
    },
    {
      "cell_type": "code",
      "source": [
        "#drop null values from multiple columns\n",
        "\n",
        "df.dropna(subset=['end_station_name', 'start_station_name','start_station_id','end_station_id','end_lat','end_lng'], inplace=True)\n",
        "df.isnull().sum()\n"
      ],
      "metadata": {
        "id": "mYGxYT_5xiMx"
      },
      "execution_count": null,
      "outputs": []
    },
    {
      "cell_type": "code",
      "source": [
        "df.nunique()"
      ],
      "metadata": {
        "id": "Vj9RGqpzOjLb"
      },
      "execution_count": null,
      "outputs": []
    },
    {
      "cell_type": "code",
      "source": [
        "#export data as excel\n",
        "\n",
        "import pandas as pd\n",
        "\n",
        "# Export the DataFrame to an Excel file\n",
        "df.to_excel('202101-divvy-tripdata.xlsx', index=False)"
      ],
      "metadata": {
        "id": "CsHKzzTLyhAu"
      },
      "execution_count": null,
      "outputs": []
    }
  ]
}