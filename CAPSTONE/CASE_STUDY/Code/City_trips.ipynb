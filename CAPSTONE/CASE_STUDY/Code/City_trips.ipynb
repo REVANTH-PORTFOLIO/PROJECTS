{
  "nbformat": 4,
  "nbformat_minor": 0,
  "metadata": {
    "colab": {
      "private_outputs": true,
      "provenance": [],
      "gpuType": "V28"
    },
    "kernelspec": {
      "name": "python3",
      "display_name": "Python 3"
    },
    "language_info": {
      "name": "python"
    },
    "accelerator": "TPU"
  },
  "cells": [
    {
      "cell_type": "code",
      "execution_count": null,
      "metadata": {
        "id": "eV2_qcFtwXIY"
      },
      "outputs": [],
      "source": [
        "import pandas as pd;\n",
        "import numpy as np;\n",
        "import matplotlib.pyplot as plt;\n",
        "import seaborn as sns;\n",
        "import os;"
      ]
    },
    {
      "cell_type": "code",
      "source": [
        "df=pd.read_csv('/content/202101-divvy-tripdata.csv')\n",
        "print(df)"
      ],
      "metadata": {
        "id": "1EtjIiK8weea"
      },
      "execution_count": null,
      "outputs": []
    },
    {
      "cell_type": "code",
      "source": [
        "df.T"
      ],
      "metadata": {
        "id": "rW7zlfWD78vo"
      },
      "execution_count": null,
      "outputs": []
    },
    {
      "cell_type": "code",
      "source": [
        "df.head().T"
      ],
      "metadata": {
        "id": "48g4AZ2z7_Aj"
      },
      "execution_count": null,
      "outputs": []
    },
    {
      "cell_type": "code",
      "source": [
        "df.tail()"
      ],
      "metadata": {
        "id": "JYWftd268C6o"
      },
      "execution_count": null,
      "outputs": []
    },
    {
      "cell_type": "code",
      "source": [
        "df.shape"
      ],
      "metadata": {
        "id": "Z5q_ykFd7aIM"
      },
      "execution_count": null,
      "outputs": []
    },
    {
      "cell_type": "code",
      "source": [
        "df.columns"
      ],
      "metadata": {
        "id": "WedqUSdo8OFv"
      },
      "execution_count": null,
      "outputs": []
    },
    {
      "cell_type": "code",
      "source": [
        "df.info()"
      ],
      "metadata": {
        "id": "eQdD-s7-7dU9"
      },
      "execution_count": null,
      "outputs": []
    },
    {
      "cell_type": "code",
      "source": [
        "df.describe()"
      ],
      "metadata": {
        "id": "O0g1v_X47gbZ"
      },
      "execution_count": null,
      "outputs": []
    },
    {
      "cell_type": "code",
      "source": [
        "df.isnull().sum()"
      ],
      "metadata": {
        "id": "9xkZqHjlwj8q"
      },
      "execution_count": null,
      "outputs": []
    },
    {
      "cell_type": "code",
      "source": [
        "import matplotlib.pyplot as plt;\n",
        "import seaborn as sns;\n",
        "\n",
        "plt.figure(figsize=(12, 10))\n",
        "sns.heatmap(df.isnull())\n",
        "plt.title('Null values Matrix of Divvy Trip Data')\n",
        "plt.show()\n"
      ],
      "metadata": {
        "id": "2FREwtblGxCc"
      },
      "execution_count": null,
      "outputs": []
    },
    {
      "cell_type": "code",
      "source": [
        "#drop null values from multiple columns\n",
        "\n",
        "df.dropna(subset=['end_station_name', 'start_station_name','start_station_id','end_station_id','end_lat','end_lng'], inplace=True)\n",
        "df.isnull().sum()\n"
      ],
      "metadata": {
        "id": "mYGxYT_5xiMx"
      },
      "execution_count": null,
      "outputs": []
    },
    {
      "cell_type": "code",
      "source": [
        "df.shape"
      ],
      "metadata": {
        "id": "A8ouwKEMZ2gC"
      },
      "execution_count": null,
      "outputs": []
    },
    {
      "cell_type": "code",
      "source": [
        "import matplotlib.pyplot as plt;\n",
        "import seaborn as sns;\n",
        "\n",
        "plt.figure(figsize=(12, 10))\n",
        "sns.heatmap(df.isnull())\n",
        "plt.title('Null values Matrix of Divvy Trip Data')\n",
        "plt.show()\n"
      ],
      "metadata": {
        "id": "6gXzeWaMI0ir"
      },
      "execution_count": null,
      "outputs": []
    },
    {
      "cell_type": "code",
      "source": [
        "df['started_at'] = pd.to_datetime(df['started_at'])\n",
        "df['ended_at'] = pd.to_datetime(df['ended_at'])\n",
        "df['ride_length'] = df['ended_at'] - df['started_at']\n",
        "df['day_of_week'] = df['started_at'].dt.day_name()"
      ],
      "metadata": {
        "id": "U1UJvsIyK1yN"
      },
      "execution_count": null,
      "outputs": []
    },
    {
      "cell_type": "code",
      "source": [
        "#convert datatype of day_of_week to integer datatype\n",
        "\n",
        "df['day_of_week'] = df['started_at'].dt.dayofweek\n"
      ],
      "metadata": {
        "id": "WRa52ihiWmDi"
      },
      "execution_count": null,
      "outputs": []
    },
    {
      "cell_type": "code",
      "source": [
        "df.shape"
      ],
      "metadata": {
        "id": "6pM-an5DKunY"
      },
      "execution_count": null,
      "outputs": []
    },
    {
      "cell_type": "code",
      "source": [
        "df.nunique()"
      ],
      "metadata": {
        "id": "Vj9RGqpzOjLb"
      },
      "execution_count": null,
      "outputs": []
    },
    {
      "cell_type": "code",
      "source": [
        "df.duplicated().sum()"
      ],
      "metadata": {
        "id": "LpnLIm-5JQnb"
      },
      "execution_count": null,
      "outputs": []
    },
    {
      "cell_type": "code",
      "source": [
        "df.describe()"
      ],
      "metadata": {
        "id": "xUTPZD-2JXpw"
      },
      "execution_count": null,
      "outputs": []
    },
    {
      "cell_type": "code",
      "source": [
        "sns.pairplot(df)"
      ],
      "metadata": {
        "id": "ZfD4Um78JXkS"
      },
      "execution_count": null,
      "outputs": []
    },
    {
      "cell_type": "code",
      "source": [
        "categorical_cols = df.select_dtypes(include=['object', 'category']).columns.tolist()\n",
        "numerical_cols = df.select_dtypes(include=['number']).columns.tolist()\n",
        "\n",
        "print(\"Categorical Columns:\", categorical_cols)\n",
        "print(\"Numerical Columns:\", numerical_cols)"
      ],
      "metadata": {
        "id": "mSYS5_10JXel"
      },
      "execution_count": null,
      "outputs": []
    },
    {
      "cell_type": "code",
      "source": [
        "df.shape"
      ],
      "metadata": {
        "id": "BaEQiXV1OP4-"
      },
      "execution_count": null,
      "outputs": []
    },
    {
      "cell_type": "code",
      "source": [
        "# prompt: covert ride_length values to two decimal roundup value and name it to ride_length\n",
        "\n",
        "import pandas as pd;\n",
        "import numpy as np;\n",
        "import matplotlib.pyplot as plt;\n",
        "import seaborn as sns;\n",
        "import os;\n",
        "df=pd.read_csv('/content/202101-divvy-tripdata.csv')\n",
        "\n",
        "# ... (rest of your existing code)\n",
        "\n",
        "df['started_at'] = pd.to_datetime(df['started_at'])\n",
        "df['ended_at'] = pd.to_datetime(df['ended_at'])\n",
        "df['ride_length'] = df['ended_at'] - df['started_at']\n",
        "df['ride_length'] = df['ride_length'].dt.total_seconds() / 60 # Convert to minutes\n",
        "df['ride_length'] = df['ride_length'].round(2) # Round to two decimal places\n",
        "\n",
        "df['day_of_week'] = df['started_at'].dt.day_name()\n",
        "df['day_of_week'] = df['started_at'].dt.dayofweek\n",
        "\n",
        "# ... (rest of your existing code)\n"
      ],
      "metadata": {
        "id": "9zB9CFSwbKqr"
      },
      "execution_count": null,
      "outputs": []
    },
    {
      "cell_type": "code",
      "source": [
        "df.shape"
      ],
      "metadata": {
        "id": "9aluUPJwbZ3X"
      },
      "execution_count": null,
      "outputs": []
    },
    {
      "cell_type": "code",
      "source": [
        "df.isnull().sum()"
      ],
      "metadata": {
        "id": "vRo6MGFzcI27"
      },
      "execution_count": null,
      "outputs": []
    },
    {
      "cell_type": "code",
      "source": [
        "#drop null values from multiple columns\n",
        "df.dropna(subset=['end_station_name', 'start_station_name','start_station_id','end_station_id','end_lat','end_lng'], inplace=True)\n",
        "df.isnull().sum()\n"
      ],
      "metadata": {
        "id": "iZXgmxSPcN03"
      },
      "execution_count": null,
      "outputs": []
    },
    {
      "cell_type": "code",
      "source": [
        "# prompt: function to plot hist for numerical_cols\n",
        "\n",
        "import matplotlib.pyplot as plt\n",
        "\n",
        "def plot_histograms(df, numerical_cols):\n",
        "    \"\"\"Plots histograms for numerical columns in a DataFrame.\n",
        "\n",
        "    Args:\n",
        "        df: The input DataFrame.\n",
        "        numerical_cols: A list of numerical column names.\n",
        "    \"\"\"\n",
        "    for col in numerical_cols:\n",
        "        plt.figure(figsize=(8, 6))  # Adjust figure size as needed\n",
        "        plt.hist(df[col], bins=30, edgecolor='black') # Adjust number of bins\n",
        "        plt.title(f'Histogram of {col}')\n",
        "        plt.xlabel(col)\n",
        "        plt.ylabel('Frequency')\n",
        "        plt.show()\n",
        "# Example usage (assuming numerical_cols is defined as in your original code):\n",
        "plot_histograms(df, numerical_cols)\n"
      ],
      "metadata": {
        "id": "65SOe_XTMa-9"
      },
      "execution_count": null,
      "outputs": []
    },
    {
      "cell_type": "code",
      "source": [
        "# prompt: function to plot boxplot for numerical_cols and print\n",
        "\n",
        "def plot_boxplots(df, numerical_cols):\n",
        "    \"\"\"Plots boxplots for numerical columns in a DataFrame.\n",
        "\n",
        "    Args:\n",
        "        df: The input DataFrame.\n",
        "        numerical_cols: A list of numerical column names.\n",
        "    \"\"\"\n",
        "    for col in numerical_cols:\n",
        "        plt.figure(figsize=(8, 6))\n",
        "        sns.boxplot(x=df[col])\n",
        "        plt.title(f'Boxplot of {col}')\n",
        "        plt.show()\n",
        "        print(f\"Boxplot of {col} displayed.\")\n",
        "\n",
        "# Example usage (assuming numerical_cols is defined as in your original code):\n",
        "plot_boxplots(df, numerical_cols)\n"
      ],
      "metadata": {
        "id": "c0mkbTxGMDn1"
      },
      "execution_count": null,
      "outputs": []
    },
    {
      "cell_type": "code",
      "source": [
        "# prompt: function to plot upperfence, lowerfence, IQR to drop all the outliers from all the numerical_cols and print\n",
        "\n",
        "import pandas as pd\n",
        "import numpy as np\n",
        "\n",
        "def remove_outliers(df, numerical_cols):\n",
        "    \"\"\"\n",
        "    Identifies and removes outliers from numerical columns in a DataFrame.\n",
        "\n",
        "    Args:\n",
        "        df: The input DataFrame.\n",
        "        numerical_cols: A list of numerical column names.\n",
        "\n",
        "    Returns:\n",
        "        A new DataFrame with outliers removed.\n",
        "    \"\"\"\n",
        "    df_no_outliers = df.copy()\n",
        "    for col in numerical_cols:\n",
        "        Q1 = df[col].quantile(0.25)\n",
        "        Q3 = df[col].quantile(0.75)\n",
        "        IQR = Q3 - Q1\n",
        "        upper_fence = Q3 + 1.5 * IQR\n",
        "        lower_fence = Q1 - 1.5 * IQR\n",
        "\n",
        "        # Identify and remove outliers\n",
        "        df_no_outliers = df_no_outliers[(df_no_outliers[col] >= lower_fence) & (df_no_outliers[col] <= upper_fence)]\n",
        "\n",
        "        print(f\"Column: {col}\")\n",
        "        print(f\"  Lower Fence: {lower_fence}\")\n",
        "        print(f\"  Upper Fence: {upper_fence}\")\n",
        "        print(f\"  IQR: {IQR}\")\n",
        "\n",
        "    return df_no_outliers\n",
        "\n",
        "# Example usage (assuming df and numerical_cols are defined as in your original code)\n",
        "df_no_outliers = remove_outliers(df, numerical_cols)\n",
        "df_no_outliers\n"
      ],
      "metadata": {
        "id": "X9kiZueMMXjK"
      },
      "execution_count": null,
      "outputs": []
    },
    {
      "cell_type": "code",
      "source": [
        "df_no_outliers.shape"
      ],
      "metadata": {
        "id": "aMpxTm7yPycs"
      },
      "execution_count": null,
      "outputs": []
    },
    {
      "cell_type": "code",
      "source": [
        "print(83509-70800)"
      ],
      "metadata": {
        "id": "SIysfXriQD-k"
      },
      "execution_count": null,
      "outputs": []
    },
    {
      "cell_type": "code",
      "source": [
        "plt.figure(figsize=(8, 6))\n",
        "sns.countplot(x='rideable_type', data=df)\n",
        "plt.title('Count Plot of Rideable Types')\n",
        "plt.xlabel('Rideable Type')\n",
        "plt.ylabel('Count')\n",
        "plt.show()"
      ],
      "metadata": {
        "id": "a5sAJIcSQOc3"
      },
      "execution_count": null,
      "outputs": []
    },
    {
      "cell_type": "code",
      "source": [
        "plt.figure(figsize=(8, 6))\n",
        "sns.countplot(x='member_casual', data=df)\n",
        "plt.title('Count Plot of Member vs Casual')\n",
        "plt.xlabel('Member/Casual')\n",
        "plt.ylabel('Count')\n",
        "plt.show()\n"
      ],
      "metadata": {
        "id": "Dma0QUt_hdmB"
      },
      "execution_count": null,
      "outputs": []
    },
    {
      "cell_type": "code",
      "source": [
        "# prompt: normalize  and print\n",
        "# Assuming df_no_outliers and numerical_cols are defined from the previous code\n",
        "# Select only numerical columns for normalization\n",
        "numerical_df = df_no_outliers[numerical_cols]\n",
        "\n",
        "# Initialize the StandardScaler\n",
        "from sklearn.preprocessing import StandardScaler\n",
        "scaler = StandardScaler()\n",
        "\n",
        "# Fit and transform the numerical data\n",
        "normalized_numerical_data = scaler.fit_transform(numerical_df)\n",
        "\n",
        "# Create a new DataFrame with normalized data\n",
        "normalized_numerical_df = pd.DataFrame(normalized_numerical_data, columns=numerical_cols)\n",
        "\n",
        "# Print the normalized numerical data\n",
        "normalized_numerical_df\n"
      ],
      "metadata": {
        "id": "txU4dkhejiLP"
      },
      "execution_count": null,
      "outputs": []
    }
  ]
}