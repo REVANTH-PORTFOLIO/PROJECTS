{
  "cells": [
    {
      "cell_type": "markdown",
      "metadata": {
        "id": "ltwMB0liRuwC"
      },
      "source": [
        "**# To import required python packages**"
      ]
    },
    {
      "cell_type": "code",
      "execution_count": 162,
      "metadata": {
        "id": "I9fHaHyCENIs"
      },
      "outputs": [],
      "source": [
        "import numpy as np\n",
        "import pandas as pd\n",
        "import seaborn as sns\n",
        "import matplotlib.pyplot as plt\n",
        "%matplotlib inline"
      ]
    },
    {
      "cell_type": "markdown",
      "metadata": {
        "id": "XW9wDjzlSLM8"
      },
      "source": [
        "**# Reading dataset and displaying dataset**"
      ]
    },
    {
      "cell_type": "code",
      "execution_count": 163,
      "metadata": {
        "colab": {
          "base_uri": "https://localhost:8080/"
        },
        "id": "nLiW2iuyFHjv",
        "outputId": "f289532a-2ab6-4f19-f608-c5419fad9219"
      },
      "outputs": [
        {
          "output_type": "stream",
          "name": "stdout",
          "text": [
            "     Duration  Pulse  Maxpulse  Calories\n",
            "0          60    110       130     409.1\n",
            "1          60    117       145     479.0\n",
            "2          60    103       135     340.0\n",
            "3          45    109       175     282.4\n",
            "4          45    117       148     406.0\n",
            "..        ...    ...       ...       ...\n",
            "164        60    105       140     290.8\n",
            "165        60    110       145     300.0\n",
            "166        60    115       145     310.2\n",
            "167        75    120       150     320.4\n",
            "168        75    125       150     330.4\n",
            "\n",
            "[169 rows x 4 columns]\n"
          ]
        }
      ],
      "source": [
        "df=pd.read_csv(\"https://www.w3schools.com/python/pandas/data.csv.txt\")\n",
        "print(df)"
      ]
    },
    {
      "cell_type": "markdown",
      "metadata": {
        "id": "RaIyMPO7Smwy"
      },
      "source": [
        "**# To know no of rows and columns in a dataset**"
      ]
    },
    {
      "cell_type": "code",
      "execution_count": 164,
      "metadata": {
        "colab": {
          "base_uri": "https://localhost:8080/"
        },
        "id": "iQ82N8B_GNe9",
        "outputId": "a4da7701-bcdb-47bd-874c-8431c1f6ade4"
      },
      "outputs": [
        {
          "output_type": "execute_result",
          "data": {
            "text/plain": [
              "(169, 4)"
            ]
          },
          "metadata": {},
          "execution_count": 164
        }
      ],
      "source": [
        "df.shape"
      ]
    },
    {
      "cell_type": "markdown",
      "metadata": {
        "id": "a_28UwpfSvKE"
      },
      "source": [
        "**# To display top 5 rows of a dataset**"
      ]
    },
    {
      "cell_type": "code",
      "execution_count": 165,
      "metadata": {
        "colab": {
          "base_uri": "https://localhost:8080/",
          "height": 206
        },
        "id": "oR6UOCouH4O2",
        "outputId": "c73f1dd3-f667-4351-b889-0bb81a862431"
      },
      "outputs": [
        {
          "output_type": "execute_result",
          "data": {
            "text/plain": [
              "   Duration  Pulse  Maxpulse  Calories\n",
              "0        60    110       130     409.1\n",
              "1        60    117       145     479.0\n",
              "2        60    103       135     340.0\n",
              "3        45    109       175     282.4\n",
              "4        45    117       148     406.0"
            ],
            "text/html": [
              "\n",
              "  <div id=\"df-6beef37d-89fb-4e6f-be8d-ef3ad1da442e\">\n",
              "    <div class=\"colab-df-container\">\n",
              "      <div>\n",
              "<style scoped>\n",
              "    .dataframe tbody tr th:only-of-type {\n",
              "        vertical-align: middle;\n",
              "    }\n",
              "\n",
              "    .dataframe tbody tr th {\n",
              "        vertical-align: top;\n",
              "    }\n",
              "\n",
              "    .dataframe thead th {\n",
              "        text-align: right;\n",
              "    }\n",
              "</style>\n",
              "<table border=\"1\" class=\"dataframe\">\n",
              "  <thead>\n",
              "    <tr style=\"text-align: right;\">\n",
              "      <th></th>\n",
              "      <th>Duration</th>\n",
              "      <th>Pulse</th>\n",
              "      <th>Maxpulse</th>\n",
              "      <th>Calories</th>\n",
              "    </tr>\n",
              "  </thead>\n",
              "  <tbody>\n",
              "    <tr>\n",
              "      <th>0</th>\n",
              "      <td>60</td>\n",
              "      <td>110</td>\n",
              "      <td>130</td>\n",
              "      <td>409.1</td>\n",
              "    </tr>\n",
              "    <tr>\n",
              "      <th>1</th>\n",
              "      <td>60</td>\n",
              "      <td>117</td>\n",
              "      <td>145</td>\n",
              "      <td>479.0</td>\n",
              "    </tr>\n",
              "    <tr>\n",
              "      <th>2</th>\n",
              "      <td>60</td>\n",
              "      <td>103</td>\n",
              "      <td>135</td>\n",
              "      <td>340.0</td>\n",
              "    </tr>\n",
              "    <tr>\n",
              "      <th>3</th>\n",
              "      <td>45</td>\n",
              "      <td>109</td>\n",
              "      <td>175</td>\n",
              "      <td>282.4</td>\n",
              "    </tr>\n",
              "    <tr>\n",
              "      <th>4</th>\n",
              "      <td>45</td>\n",
              "      <td>117</td>\n",
              "      <td>148</td>\n",
              "      <td>406.0</td>\n",
              "    </tr>\n",
              "  </tbody>\n",
              "</table>\n",
              "</div>\n",
              "      <button class=\"colab-df-convert\" onclick=\"convertToInteractive('df-6beef37d-89fb-4e6f-be8d-ef3ad1da442e')\"\n",
              "              title=\"Convert this dataframe to an interactive table.\"\n",
              "              style=\"display:none;\">\n",
              "        \n",
              "  <svg xmlns=\"http://www.w3.org/2000/svg\" height=\"24px\"viewBox=\"0 0 24 24\"\n",
              "       width=\"24px\">\n",
              "    <path d=\"M0 0h24v24H0V0z\" fill=\"none\"/>\n",
              "    <path d=\"M18.56 5.44l.94 2.06.94-2.06 2.06-.94-2.06-.94-.94-2.06-.94 2.06-2.06.94zm-11 1L8.5 8.5l.94-2.06 2.06-.94-2.06-.94L8.5 2.5l-.94 2.06-2.06.94zm10 10l.94 2.06.94-2.06 2.06-.94-2.06-.94-.94-2.06-.94 2.06-2.06.94z\"/><path d=\"M17.41 7.96l-1.37-1.37c-.4-.4-.92-.59-1.43-.59-.52 0-1.04.2-1.43.59L10.3 9.45l-7.72 7.72c-.78.78-.78 2.05 0 2.83L4 21.41c.39.39.9.59 1.41.59.51 0 1.02-.2 1.41-.59l7.78-7.78 2.81-2.81c.8-.78.8-2.07 0-2.86zM5.41 20L4 18.59l7.72-7.72 1.47 1.35L5.41 20z\"/>\n",
              "  </svg>\n",
              "      </button>\n",
              "      \n",
              "  <style>\n",
              "    .colab-df-container {\n",
              "      display:flex;\n",
              "      flex-wrap:wrap;\n",
              "      gap: 12px;\n",
              "    }\n",
              "\n",
              "    .colab-df-convert {\n",
              "      background-color: #E8F0FE;\n",
              "      border: none;\n",
              "      border-radius: 50%;\n",
              "      cursor: pointer;\n",
              "      display: none;\n",
              "      fill: #1967D2;\n",
              "      height: 32px;\n",
              "      padding: 0 0 0 0;\n",
              "      width: 32px;\n",
              "    }\n",
              "\n",
              "    .colab-df-convert:hover {\n",
              "      background-color: #E2EBFA;\n",
              "      box-shadow: 0px 1px 2px rgba(60, 64, 67, 0.3), 0px 1px 3px 1px rgba(60, 64, 67, 0.15);\n",
              "      fill: #174EA6;\n",
              "    }\n",
              "\n",
              "    [theme=dark] .colab-df-convert {\n",
              "      background-color: #3B4455;\n",
              "      fill: #D2E3FC;\n",
              "    }\n",
              "\n",
              "    [theme=dark] .colab-df-convert:hover {\n",
              "      background-color: #434B5C;\n",
              "      box-shadow: 0px 1px 3px 1px rgba(0, 0, 0, 0.15);\n",
              "      filter: drop-shadow(0px 1px 2px rgba(0, 0, 0, 0.3));\n",
              "      fill: #FFFFFF;\n",
              "    }\n",
              "  </style>\n",
              "\n",
              "      <script>\n",
              "        const buttonEl =\n",
              "          document.querySelector('#df-6beef37d-89fb-4e6f-be8d-ef3ad1da442e button.colab-df-convert');\n",
              "        buttonEl.style.display =\n",
              "          google.colab.kernel.accessAllowed ? 'block' : 'none';\n",
              "\n",
              "        async function convertToInteractive(key) {\n",
              "          const element = document.querySelector('#df-6beef37d-89fb-4e6f-be8d-ef3ad1da442e');\n",
              "          const dataTable =\n",
              "            await google.colab.kernel.invokeFunction('convertToInteractive',\n",
              "                                                     [key], {});\n",
              "          if (!dataTable) return;\n",
              "\n",
              "          const docLinkHtml = 'Like what you see? Visit the ' +\n",
              "            '<a target=\"_blank\" href=https://colab.research.google.com/notebooks/data_table.ipynb>data table notebook</a>'\n",
              "            + ' to learn more about interactive tables.';\n",
              "          element.innerHTML = '';\n",
              "          dataTable['output_type'] = 'display_data';\n",
              "          await google.colab.output.renderOutput(dataTable, element);\n",
              "          const docLink = document.createElement('div');\n",
              "          docLink.innerHTML = docLinkHtml;\n",
              "          element.appendChild(docLink);\n",
              "        }\n",
              "      </script>\n",
              "    </div>\n",
              "  </div>\n",
              "  "
            ]
          },
          "metadata": {},
          "execution_count": 165
        }
      ],
      "source": [
        "df.head()"
      ]
    },
    {
      "cell_type": "markdown",
      "metadata": {
        "id": "00pQVkkKTB50"
      },
      "source": [
        "**# To display bottom 5 rows of a dataset**"
      ]
    },
    {
      "cell_type": "code",
      "execution_count": 166,
      "metadata": {
        "colab": {
          "base_uri": "https://localhost:8080/",
          "height": 206
        },
        "id": "jToMROPqH5l3",
        "outputId": "f890a8ac-1bac-463c-dac2-2e9e55ad4fdc"
      },
      "outputs": [
        {
          "output_type": "execute_result",
          "data": {
            "text/plain": [
              "     Duration  Pulse  Maxpulse  Calories\n",
              "164        60    105       140     290.8\n",
              "165        60    110       145     300.0\n",
              "166        60    115       145     310.2\n",
              "167        75    120       150     320.4\n",
              "168        75    125       150     330.4"
            ],
            "text/html": [
              "\n",
              "  <div id=\"df-62e0aec4-33f4-4fbe-a93f-3ee836ab5ad4\">\n",
              "    <div class=\"colab-df-container\">\n",
              "      <div>\n",
              "<style scoped>\n",
              "    .dataframe tbody tr th:only-of-type {\n",
              "        vertical-align: middle;\n",
              "    }\n",
              "\n",
              "    .dataframe tbody tr th {\n",
              "        vertical-align: top;\n",
              "    }\n",
              "\n",
              "    .dataframe thead th {\n",
              "        text-align: right;\n",
              "    }\n",
              "</style>\n",
              "<table border=\"1\" class=\"dataframe\">\n",
              "  <thead>\n",
              "    <tr style=\"text-align: right;\">\n",
              "      <th></th>\n",
              "      <th>Duration</th>\n",
              "      <th>Pulse</th>\n",
              "      <th>Maxpulse</th>\n",
              "      <th>Calories</th>\n",
              "    </tr>\n",
              "  </thead>\n",
              "  <tbody>\n",
              "    <tr>\n",
              "      <th>164</th>\n",
              "      <td>60</td>\n",
              "      <td>105</td>\n",
              "      <td>140</td>\n",
              "      <td>290.8</td>\n",
              "    </tr>\n",
              "    <tr>\n",
              "      <th>165</th>\n",
              "      <td>60</td>\n",
              "      <td>110</td>\n",
              "      <td>145</td>\n",
              "      <td>300.0</td>\n",
              "    </tr>\n",
              "    <tr>\n",
              "      <th>166</th>\n",
              "      <td>60</td>\n",
              "      <td>115</td>\n",
              "      <td>145</td>\n",
              "      <td>310.2</td>\n",
              "    </tr>\n",
              "    <tr>\n",
              "      <th>167</th>\n",
              "      <td>75</td>\n",
              "      <td>120</td>\n",
              "      <td>150</td>\n",
              "      <td>320.4</td>\n",
              "    </tr>\n",
              "    <tr>\n",
              "      <th>168</th>\n",
              "      <td>75</td>\n",
              "      <td>125</td>\n",
              "      <td>150</td>\n",
              "      <td>330.4</td>\n",
              "    </tr>\n",
              "  </tbody>\n",
              "</table>\n",
              "</div>\n",
              "      <button class=\"colab-df-convert\" onclick=\"convertToInteractive('df-62e0aec4-33f4-4fbe-a93f-3ee836ab5ad4')\"\n",
              "              title=\"Convert this dataframe to an interactive table.\"\n",
              "              style=\"display:none;\">\n",
              "        \n",
              "  <svg xmlns=\"http://www.w3.org/2000/svg\" height=\"24px\"viewBox=\"0 0 24 24\"\n",
              "       width=\"24px\">\n",
              "    <path d=\"M0 0h24v24H0V0z\" fill=\"none\"/>\n",
              "    <path d=\"M18.56 5.44l.94 2.06.94-2.06 2.06-.94-2.06-.94-.94-2.06-.94 2.06-2.06.94zm-11 1L8.5 8.5l.94-2.06 2.06-.94-2.06-.94L8.5 2.5l-.94 2.06-2.06.94zm10 10l.94 2.06.94-2.06 2.06-.94-2.06-.94-.94-2.06-.94 2.06-2.06.94z\"/><path d=\"M17.41 7.96l-1.37-1.37c-.4-.4-.92-.59-1.43-.59-.52 0-1.04.2-1.43.59L10.3 9.45l-7.72 7.72c-.78.78-.78 2.05 0 2.83L4 21.41c.39.39.9.59 1.41.59.51 0 1.02-.2 1.41-.59l7.78-7.78 2.81-2.81c.8-.78.8-2.07 0-2.86zM5.41 20L4 18.59l7.72-7.72 1.47 1.35L5.41 20z\"/>\n",
              "  </svg>\n",
              "      </button>\n",
              "      \n",
              "  <style>\n",
              "    .colab-df-container {\n",
              "      display:flex;\n",
              "      flex-wrap:wrap;\n",
              "      gap: 12px;\n",
              "    }\n",
              "\n",
              "    .colab-df-convert {\n",
              "      background-color: #E8F0FE;\n",
              "      border: none;\n",
              "      border-radius: 50%;\n",
              "      cursor: pointer;\n",
              "      display: none;\n",
              "      fill: #1967D2;\n",
              "      height: 32px;\n",
              "      padding: 0 0 0 0;\n",
              "      width: 32px;\n",
              "    }\n",
              "\n",
              "    .colab-df-convert:hover {\n",
              "      background-color: #E2EBFA;\n",
              "      box-shadow: 0px 1px 2px rgba(60, 64, 67, 0.3), 0px 1px 3px 1px rgba(60, 64, 67, 0.15);\n",
              "      fill: #174EA6;\n",
              "    }\n",
              "\n",
              "    [theme=dark] .colab-df-convert {\n",
              "      background-color: #3B4455;\n",
              "      fill: #D2E3FC;\n",
              "    }\n",
              "\n",
              "    [theme=dark] .colab-df-convert:hover {\n",
              "      background-color: #434B5C;\n",
              "      box-shadow: 0px 1px 3px 1px rgba(0, 0, 0, 0.15);\n",
              "      filter: drop-shadow(0px 1px 2px rgba(0, 0, 0, 0.3));\n",
              "      fill: #FFFFFF;\n",
              "    }\n",
              "  </style>\n",
              "\n",
              "      <script>\n",
              "        const buttonEl =\n",
              "          document.querySelector('#df-62e0aec4-33f4-4fbe-a93f-3ee836ab5ad4 button.colab-df-convert');\n",
              "        buttonEl.style.display =\n",
              "          google.colab.kernel.accessAllowed ? 'block' : 'none';\n",
              "\n",
              "        async function convertToInteractive(key) {\n",
              "          const element = document.querySelector('#df-62e0aec4-33f4-4fbe-a93f-3ee836ab5ad4');\n",
              "          const dataTable =\n",
              "            await google.colab.kernel.invokeFunction('convertToInteractive',\n",
              "                                                     [key], {});\n",
              "          if (!dataTable) return;\n",
              "\n",
              "          const docLinkHtml = 'Like what you see? Visit the ' +\n",
              "            '<a target=\"_blank\" href=https://colab.research.google.com/notebooks/data_table.ipynb>data table notebook</a>'\n",
              "            + ' to learn more about interactive tables.';\n",
              "          element.innerHTML = '';\n",
              "          dataTable['output_type'] = 'display_data';\n",
              "          await google.colab.output.renderOutput(dataTable, element);\n",
              "          const docLink = document.createElement('div');\n",
              "          docLink.innerHTML = docLinkHtml;\n",
              "          element.appendChild(docLink);\n",
              "        }\n",
              "      </script>\n",
              "    </div>\n",
              "  </div>\n",
              "  "
            ]
          },
          "metadata": {},
          "execution_count": 166
        }
      ],
      "source": [
        "df.tail()"
      ]
    },
    {
      "cell_type": "markdown",
      "metadata": {
        "id": "cMbswdhiTRBy"
      },
      "source": [
        "**# To display various type of columns present in a dataset**"
      ]
    },
    {
      "cell_type": "code",
      "execution_count": 167,
      "metadata": {
        "colab": {
          "base_uri": "https://localhost:8080/"
        },
        "id": "uw4bjW_AGUqc",
        "outputId": "12bec99b-a776-4186-ad34-b10d9a986ec4"
      },
      "outputs": [
        {
          "output_type": "execute_result",
          "data": {
            "text/plain": [
              "Index(['Duration', 'Pulse', 'Maxpulse', 'Calories'], dtype='object')"
            ]
          },
          "metadata": {},
          "execution_count": 167
        }
      ],
      "source": [
        "df.columns"
      ]
    },
    {
      "cell_type": "markdown",
      "metadata": {
        "id": "ngNPfullTgVR"
      },
      "source": [
        "**# To display unique values in a Duration column of a dataset**\n",
        "\n",
        "\n"
      ]
    },
    {
      "cell_type": "code",
      "execution_count": 168,
      "metadata": {
        "colab": {
          "base_uri": "https://localhost:8080/"
        },
        "id": "dGVrn0UyGiDg",
        "outputId": "6da54c02-aaab-4efe-fb19-c249f0cdc39f"
      },
      "outputs": [
        {
          "output_type": "execute_result",
          "data": {
            "text/plain": [
              "array([ 60,  45,  30,  80,  20, 210, 160, 180, 150, 300,  90, 120, 270,\n",
              "        15,  25,  75])"
            ]
          },
          "metadata": {},
          "execution_count": 168
        }
      ],
      "source": [
        "df['Duration'].unique()"
      ]
    },
    {
      "cell_type": "markdown",
      "metadata": {
        "id": "2ZwTFXLuT2B1"
      },
      "source": [
        "**# To display unique values in a Pulse column of a dataset**\n",
        "\n",
        "\n"
      ]
    },
    {
      "cell_type": "code",
      "execution_count": 169,
      "metadata": {
        "colab": {
          "base_uri": "https://localhost:8080/"
        },
        "id": "PbHIFMVWG6RJ",
        "outputId": "40678e6a-0241-46e3-9bbf-0cbdf3e11133"
      },
      "outputs": [
        {
          "output_type": "execute_result",
          "data": {
            "text/plain": [
              "array([110, 117, 103, 109, 102, 104,  98, 100, 106,  90,  97, 108, 130,\n",
              "       105,  92, 101,  93, 107, 114, 111,  99, 123, 118, 136, 121, 115,\n",
              "       153, 159, 149, 151, 129,  83,  80, 150,  95, 152, 137, 124, 116,\n",
              "       112, 119, 113, 141, 122,  85, 120, 125])"
            ]
          },
          "metadata": {},
          "execution_count": 169
        }
      ],
      "source": [
        "df['Pulse'].unique()"
      ]
    },
    {
      "cell_type": "markdown",
      "metadata": {
        "id": "UqgYZbViT8FS"
      },
      "source": [
        "**# To display unique values in a Maxpulse column of a dataset**\n",
        "\n",
        "\n"
      ]
    },
    {
      "cell_type": "code",
      "execution_count": 170,
      "metadata": {
        "colab": {
          "base_uri": "https://localhost:8080/"
        },
        "id": "_kTnt6deHceX",
        "outputId": "440ce919-87cb-48f8-db4a-3b2efc0f6a1f"
      },
      "outputs": [
        {
          "output_type": "execute_result",
          "data": {
            "text/plain": [
              "array([130, 145, 135, 175, 148, 127, 136, 134, 133, 124, 147, 120, 128,\n",
              "       132, 123, 112, 125, 131, 119, 101, 126, 118, 129, 115, 113, 140,\n",
              "       122, 138, 153, 139, 146, 151, 121, 144, 172, 152, 160, 137, 141,\n",
              "       143, 182, 169, 170, 157, 103, 107, 100, 171, 168, 110, 108, 184,\n",
              "       156, 162, 149, 150, 167])"
            ]
          },
          "metadata": {},
          "execution_count": 170
        }
      ],
      "source": [
        "df['Maxpulse'].unique()"
      ]
    },
    {
      "cell_type": "markdown",
      "metadata": {
        "id": "qkpizpv3UA-q"
      },
      "source": [
        "**# To display unique values in a Calories column of a dataset**\n",
        "\n",
        "\n"
      ]
    },
    {
      "cell_type": "code",
      "execution_count": 171,
      "metadata": {
        "colab": {
          "base_uri": "https://localhost:8080/"
        },
        "id": "np-KL6kaHjrD",
        "outputId": "a0e919d4-f873-45a5-ec55-28cf55714449"
      },
      "outputs": [
        {
          "output_type": "execute_result",
          "data": {
            "text/plain": [
              "array([ 409.1,  479. ,  340. ,  282.4,  406. ,  300. ,  374. ,  253.3,\n",
              "        195.1,  269. ,  329.3,  250.7,  345.3,  379.3,  275. ,  215.2,\n",
              "          nan,  323. ,  243. ,  364.2,  282. ,  246. ,  334.5,  250. ,\n",
              "        241. ,  280. ,  380.3,  180.1,  299. ,  223. ,  361. ,  415. ,\n",
              "        266. ,  286. ,  329.4,  400. ,  397. ,  273. ,  387.6,  298. ,\n",
              "        397.6,  380.2,  643.1,  263. ,  486. ,  238. ,  450.7,  413. ,\n",
              "        305. ,  226.4,  321. , 1376. , 1034.4,  853. ,  341. ,  131.4,\n",
              "        800.4,  873.4,  816. ,  110.4, 1500.2, 1115. ,  700. ,  953.2,\n",
              "        304. ,  563.2,  251. ,  500.4, 1729. ,  319.2,  344. ,  151.1,\n",
              "        500. ,  225.3,  234. , 1000.1,  242. ,   50.3,  600.1,  105.3,\n",
              "         50.5,  127.4,  229.4,  128.2,  244.2,  188.2,  604.1,   77.7,\n",
              "         92.7,  124. ,  800.3,   86.2,  500.3, 1860.4,  325.2,  124.2,\n",
              "        367.6,  351.7,  443. ,  277.4,  332.7,  193.9,  100.7,  336.7,\n",
              "        344.9,  368.5,  271. ,  275.3,  382. ,  466.4,  384. ,  342.5,\n",
              "        357.5,  335. ,  327.5,  339. ,  189. ,  317.7,  318. ,  308. ,\n",
              "        222.4,  390. ,  250.4,  335.4,  470.2,  270.8,  361.9,  185. ,\n",
              "        409.4,  343. ,  353.2,  275.8,  328. ,  270.4,  382.8,  240.9,\n",
              "        260.4,  270. ,  280.9,  290.8,  310.2,  320.4,  330.4])"
            ]
          },
          "metadata": {},
          "execution_count": 171
        }
      ],
      "source": [
        "df['Calories'].unique()     # Calories column contains some null values."
      ]
    },
    {
      "cell_type": "markdown",
      "metadata": {
        "id": "PrOBFo7yUKQC"
      },
      "source": [
        "**# To know about dataset**\n",
        "\n",
        "\n"
      ]
    },
    {
      "cell_type": "code",
      "execution_count": 172,
      "metadata": {
        "colab": {
          "base_uri": "https://localhost:8080/"
        },
        "id": "iudsRtAmHvmr",
        "outputId": "9963f8b7-4b28-445e-83ca-65b3dd6212d6"
      },
      "outputs": [
        {
          "output_type": "stream",
          "name": "stdout",
          "text": [
            "<class 'pandas.core.frame.DataFrame'>\n",
            "RangeIndex: 169 entries, 0 to 168\n",
            "Data columns (total 4 columns):\n",
            " #   Column    Non-Null Count  Dtype  \n",
            "---  ------    --------------  -----  \n",
            " 0   Duration  169 non-null    int64  \n",
            " 1   Pulse     169 non-null    int64  \n",
            " 2   Maxpulse  169 non-null    int64  \n",
            " 3   Calories  164 non-null    float64\n",
            "dtypes: float64(1), int64(3)\n",
            "memory usage: 5.4 KB\n"
          ]
        }
      ],
      "source": [
        "df.info()"
      ]
    },
    {
      "cell_type": "markdown",
      "metadata": {
        "id": "JYhJ1Vd5UU3c"
      },
      "source": [
        "**# To display Discriptive statictis of a dataset**\n",
        "\n",
        "\n"
      ]
    },
    {
      "cell_type": "code",
      "execution_count": 173,
      "metadata": {
        "colab": {
          "base_uri": "https://localhost:8080/",
          "height": 300
        },
        "id": "oli2Jb7YIFt7",
        "outputId": "5e7e827f-6bd9-4ace-f10e-b8e6442d8e21"
      },
      "outputs": [
        {
          "output_type": "execute_result",
          "data": {
            "text/plain": [
              "         Duration       Pulse    Maxpulse     Calories\n",
              "count  169.000000  169.000000  169.000000   164.000000\n",
              "mean    63.846154  107.461538  134.047337   375.790244\n",
              "std     42.299949   14.510259   16.450434   266.379919\n",
              "min     15.000000   80.000000  100.000000    50.300000\n",
              "25%     45.000000  100.000000  124.000000   250.925000\n",
              "50%     60.000000  105.000000  131.000000   318.600000\n",
              "75%     60.000000  111.000000  141.000000   387.600000\n",
              "max    300.000000  159.000000  184.000000  1860.400000"
            ],
            "text/html": [
              "\n",
              "  <div id=\"df-d0313bd4-e469-488b-912c-de374d6fac64\">\n",
              "    <div class=\"colab-df-container\">\n",
              "      <div>\n",
              "<style scoped>\n",
              "    .dataframe tbody tr th:only-of-type {\n",
              "        vertical-align: middle;\n",
              "    }\n",
              "\n",
              "    .dataframe tbody tr th {\n",
              "        vertical-align: top;\n",
              "    }\n",
              "\n",
              "    .dataframe thead th {\n",
              "        text-align: right;\n",
              "    }\n",
              "</style>\n",
              "<table border=\"1\" class=\"dataframe\">\n",
              "  <thead>\n",
              "    <tr style=\"text-align: right;\">\n",
              "      <th></th>\n",
              "      <th>Duration</th>\n",
              "      <th>Pulse</th>\n",
              "      <th>Maxpulse</th>\n",
              "      <th>Calories</th>\n",
              "    </tr>\n",
              "  </thead>\n",
              "  <tbody>\n",
              "    <tr>\n",
              "      <th>count</th>\n",
              "      <td>169.000000</td>\n",
              "      <td>169.000000</td>\n",
              "      <td>169.000000</td>\n",
              "      <td>164.000000</td>\n",
              "    </tr>\n",
              "    <tr>\n",
              "      <th>mean</th>\n",
              "      <td>63.846154</td>\n",
              "      <td>107.461538</td>\n",
              "      <td>134.047337</td>\n",
              "      <td>375.790244</td>\n",
              "    </tr>\n",
              "    <tr>\n",
              "      <th>std</th>\n",
              "      <td>42.299949</td>\n",
              "      <td>14.510259</td>\n",
              "      <td>16.450434</td>\n",
              "      <td>266.379919</td>\n",
              "    </tr>\n",
              "    <tr>\n",
              "      <th>min</th>\n",
              "      <td>15.000000</td>\n",
              "      <td>80.000000</td>\n",
              "      <td>100.000000</td>\n",
              "      <td>50.300000</td>\n",
              "    </tr>\n",
              "    <tr>\n",
              "      <th>25%</th>\n",
              "      <td>45.000000</td>\n",
              "      <td>100.000000</td>\n",
              "      <td>124.000000</td>\n",
              "      <td>250.925000</td>\n",
              "    </tr>\n",
              "    <tr>\n",
              "      <th>50%</th>\n",
              "      <td>60.000000</td>\n",
              "      <td>105.000000</td>\n",
              "      <td>131.000000</td>\n",
              "      <td>318.600000</td>\n",
              "    </tr>\n",
              "    <tr>\n",
              "      <th>75%</th>\n",
              "      <td>60.000000</td>\n",
              "      <td>111.000000</td>\n",
              "      <td>141.000000</td>\n",
              "      <td>387.600000</td>\n",
              "    </tr>\n",
              "    <tr>\n",
              "      <th>max</th>\n",
              "      <td>300.000000</td>\n",
              "      <td>159.000000</td>\n",
              "      <td>184.000000</td>\n",
              "      <td>1860.400000</td>\n",
              "    </tr>\n",
              "  </tbody>\n",
              "</table>\n",
              "</div>\n",
              "      <button class=\"colab-df-convert\" onclick=\"convertToInteractive('df-d0313bd4-e469-488b-912c-de374d6fac64')\"\n",
              "              title=\"Convert this dataframe to an interactive table.\"\n",
              "              style=\"display:none;\">\n",
              "        \n",
              "  <svg xmlns=\"http://www.w3.org/2000/svg\" height=\"24px\"viewBox=\"0 0 24 24\"\n",
              "       width=\"24px\">\n",
              "    <path d=\"M0 0h24v24H0V0z\" fill=\"none\"/>\n",
              "    <path d=\"M18.56 5.44l.94 2.06.94-2.06 2.06-.94-2.06-.94-.94-2.06-.94 2.06-2.06.94zm-11 1L8.5 8.5l.94-2.06 2.06-.94-2.06-.94L8.5 2.5l-.94 2.06-2.06.94zm10 10l.94 2.06.94-2.06 2.06-.94-2.06-.94-.94-2.06-.94 2.06-2.06.94z\"/><path d=\"M17.41 7.96l-1.37-1.37c-.4-.4-.92-.59-1.43-.59-.52 0-1.04.2-1.43.59L10.3 9.45l-7.72 7.72c-.78.78-.78 2.05 0 2.83L4 21.41c.39.39.9.59 1.41.59.51 0 1.02-.2 1.41-.59l7.78-7.78 2.81-2.81c.8-.78.8-2.07 0-2.86zM5.41 20L4 18.59l7.72-7.72 1.47 1.35L5.41 20z\"/>\n",
              "  </svg>\n",
              "      </button>\n",
              "      \n",
              "  <style>\n",
              "    .colab-df-container {\n",
              "      display:flex;\n",
              "      flex-wrap:wrap;\n",
              "      gap: 12px;\n",
              "    }\n",
              "\n",
              "    .colab-df-convert {\n",
              "      background-color: #E8F0FE;\n",
              "      border: none;\n",
              "      border-radius: 50%;\n",
              "      cursor: pointer;\n",
              "      display: none;\n",
              "      fill: #1967D2;\n",
              "      height: 32px;\n",
              "      padding: 0 0 0 0;\n",
              "      width: 32px;\n",
              "    }\n",
              "\n",
              "    .colab-df-convert:hover {\n",
              "      background-color: #E2EBFA;\n",
              "      box-shadow: 0px 1px 2px rgba(60, 64, 67, 0.3), 0px 1px 3px 1px rgba(60, 64, 67, 0.15);\n",
              "      fill: #174EA6;\n",
              "    }\n",
              "\n",
              "    [theme=dark] .colab-df-convert {\n",
              "      background-color: #3B4455;\n",
              "      fill: #D2E3FC;\n",
              "    }\n",
              "\n",
              "    [theme=dark] .colab-df-convert:hover {\n",
              "      background-color: #434B5C;\n",
              "      box-shadow: 0px 1px 3px 1px rgba(0, 0, 0, 0.15);\n",
              "      filter: drop-shadow(0px 1px 2px rgba(0, 0, 0, 0.3));\n",
              "      fill: #FFFFFF;\n",
              "    }\n",
              "  </style>\n",
              "\n",
              "      <script>\n",
              "        const buttonEl =\n",
              "          document.querySelector('#df-d0313bd4-e469-488b-912c-de374d6fac64 button.colab-df-convert');\n",
              "        buttonEl.style.display =\n",
              "          google.colab.kernel.accessAllowed ? 'block' : 'none';\n",
              "\n",
              "        async function convertToInteractive(key) {\n",
              "          const element = document.querySelector('#df-d0313bd4-e469-488b-912c-de374d6fac64');\n",
              "          const dataTable =\n",
              "            await google.colab.kernel.invokeFunction('convertToInteractive',\n",
              "                                                     [key], {});\n",
              "          if (!dataTable) return;\n",
              "\n",
              "          const docLinkHtml = 'Like what you see? Visit the ' +\n",
              "            '<a target=\"_blank\" href=https://colab.research.google.com/notebooks/data_table.ipynb>data table notebook</a>'\n",
              "            + ' to learn more about interactive tables.';\n",
              "          element.innerHTML = '';\n",
              "          dataTable['output_type'] = 'display_data';\n",
              "          await google.colab.output.renderOutput(dataTable, element);\n",
              "          const docLink = document.createElement('div');\n",
              "          docLink.innerHTML = docLinkHtml;\n",
              "          element.appendChild(docLink);\n",
              "        }\n",
              "      </script>\n",
              "    </div>\n",
              "  </div>\n",
              "  "
            ]
          },
          "metadata": {},
          "execution_count": 173
        }
      ],
      "source": [
        "df.describe()"
      ]
    },
    {
      "cell_type": "markdown",
      "source": [
        "**# To display Discriptive statictis of a dataset using heatmap**\n",
        "\n",
        "\n"
      ],
      "metadata": {
        "id": "9fjWmG6X7izJ"
      }
    },
    {
      "cell_type": "code",
      "source": [
        "sns.heatmap(df.describe(),annot=False)"
      ],
      "metadata": {
        "colab": {
          "base_uri": "https://localhost:8080/",
          "height": 282
        },
        "id": "otStE9Zg6bl1",
        "outputId": "4a0be48e-ad3e-43be-f775-e51b1679ad04"
      },
      "execution_count": 174,
      "outputs": [
        {
          "output_type": "execute_result",
          "data": {
            "text/plain": [
              "<matplotlib.axes._subplots.AxesSubplot at 0x7fd1cf314610>"
            ]
          },
          "metadata": {},
          "execution_count": 174
        },
        {
          "output_type": "display_data",
          "data": {
            "text/plain": [
              "<Figure size 432x288 with 2 Axes>"
            ],
            "image/png": "[encoded data removed]"
          },
          "metadata": {
            "needs_background": "light"
          }
        }
      ]
    },
    {
      "cell_type": "markdown",
      "metadata": {
        "id": "fdrl0Zy0UusY"
      },
      "source": [
        "**# To check null values in a dataset**\n",
        "\n",
        "\n"
      ]
    },
    {
      "cell_type": "code",
      "execution_count": 175,
      "metadata": {
        "colab": {
          "base_uri": "https://localhost:8080/",
          "height": 424
        },
        "id": "rOTwRun6IJcL",
        "outputId": "ff1cb1a2-f63d-4151-93d4-f7478f8ed278"
      },
      "outputs": [
        {
          "output_type": "execute_result",
          "data": {
            "text/plain": [
              "     Duration  Pulse  Maxpulse  Calories\n",
              "0       False  False     False     False\n",
              "1       False  False     False     False\n",
              "2       False  False     False     False\n",
              "3       False  False     False     False\n",
              "4       False  False     False     False\n",
              "..        ...    ...       ...       ...\n",
              "164     False  False     False     False\n",
              "165     False  False     False     False\n",
              "166     False  False     False     False\n",
              "167     False  False     False     False\n",
              "168     False  False     False     False\n",
              "\n",
              "[169 rows x 4 columns]"
            ],
            "text/html": [
              "\n",
              "  <div id=\"df-9a707b05-80d0-4602-b2a1-60058737a2d9\">\n",
              "    <div class=\"colab-df-container\">\n",
              "      <div>\n",
              "<style scoped>\n",
              "    .dataframe tbody tr th:only-of-type {\n",
              "        vertical-align: middle;\n",
              "    }\n",
              "\n",
              "    .dataframe tbody tr th {\n",
              "        vertical-align: top;\n",
              "    }\n",
              "\n",
              "    .dataframe thead th {\n",
              "        text-align: right;\n",
              "    }\n",
              "</style>\n",
              "<table border=\"1\" class=\"dataframe\">\n",
              "  <thead>\n",
              "    <tr style=\"text-align: right;\">\n",
              "      <th></th>\n",
              "      <th>Duration</th>\n",
              "      <th>Pulse</th>\n",
              "      <th>Maxpulse</th>\n",
              "      <th>Calories</th>\n",
              "    </tr>\n",
              "  </thead>\n",
              "  <tbody>\n",
              "    <tr>\n",
              "      <th>0</th>\n",
              "      <td>False</td>\n",
              "      <td>False</td>\n",
              "      <td>False</td>\n",
              "      <td>False</td>\n",
              "    </tr>\n",
              "    <tr>\n",
              "      <th>1</th>\n",
              "      <td>False</td>\n",
              "      <td>False</td>\n",
              "      <td>False</td>\n",
              "      <td>False</td>\n",
              "    </tr>\n",
              "    <tr>\n",
              "      <th>2</th>\n",
              "      <td>False</td>\n",
              "      <td>False</td>\n",
              "      <td>False</td>\n",
              "      <td>False</td>\n",
              "    </tr>\n",
              "    <tr>\n",
              "      <th>3</th>\n",
              "      <td>False</td>\n",
              "      <td>False</td>\n",
              "      <td>False</td>\n",
              "      <td>False</td>\n",
              "    </tr>\n",
              "    <tr>\n",
              "      <th>4</th>\n",
              "      <td>False</td>\n",
              "      <td>False</td>\n",
              "      <td>False</td>\n",
              "      <td>False</td>\n",
              "    </tr>\n",
              "    <tr>\n",
              "      <th>...</th>\n",
              "      <td>...</td>\n",
              "      <td>...</td>\n",
              "      <td>...</td>\n",
              "      <td>...</td>\n",
              "    </tr>\n",
              "    <tr>\n",
              "      <th>164</th>\n",
              "      <td>False</td>\n",
              "      <td>False</td>\n",
              "      <td>False</td>\n",
              "      <td>False</td>\n",
              "    </tr>\n",
              "    <tr>\n",
              "      <th>165</th>\n",
              "      <td>False</td>\n",
              "      <td>False</td>\n",
              "      <td>False</td>\n",
              "      <td>False</td>\n",
              "    </tr>\n",
              "    <tr>\n",
              "      <th>166</th>\n",
              "      <td>False</td>\n",
              "      <td>False</td>\n",
              "      <td>False</td>\n",
              "      <td>False</td>\n",
              "    </tr>\n",
              "    <tr>\n",
              "      <th>167</th>\n",
              "      <td>False</td>\n",
              "      <td>False</td>\n",
              "      <td>False</td>\n",
              "      <td>False</td>\n",
              "    </tr>\n",
              "    <tr>\n",
              "      <th>168</th>\n",
              "      <td>False</td>\n",
              "      <td>False</td>\n",
              "      <td>False</td>\n",
              "      <td>False</td>\n",
              "    </tr>\n",
              "  </tbody>\n",
              "</table>\n",
              "<p>169 rows × 4 columns</p>\n",
              "</div>\n",
              "      <button class=\"colab-df-convert\" onclick=\"convertToInteractive('df-9a707b05-80d0-4602-b2a1-60058737a2d9')\"\n",
              "              title=\"Convert this dataframe to an interactive table.\"\n",
              "              style=\"display:none;\">\n",
              "        \n",
              "  <svg xmlns=\"http://www.w3.org/2000/svg\" height=\"24px\"viewBox=\"0 0 24 24\"\n",
              "       width=\"24px\">\n",
              "    <path d=\"M0 0h24v24H0V0z\" fill=\"none\"/>\n",
              "    <path d=\"M18.56 5.44l.94 2.06.94-2.06 2.06-.94-2.06-.94-.94-2.06-.94 2.06-2.06.94zm-11 1L8.5 8.5l.94-2.06 2.06-.94-2.06-.94L8.5 2.5l-.94 2.06-2.06.94zm10 10l.94 2.06.94-2.06 2.06-.94-2.06-.94-.94-2.06-.94 2.06-2.06.94z\"/><path d=\"M17.41 7.96l-1.37-1.37c-.4-.4-.92-.59-1.43-.59-.52 0-1.04.2-1.43.59L10.3 9.45l-7.72 7.72c-.78.78-.78 2.05 0 2.83L4 21.41c.39.39.9.59 1.41.59.51 0 1.02-.2 1.41-.59l7.78-7.78 2.81-2.81c.8-.78.8-2.07 0-2.86zM5.41 20L4 18.59l7.72-7.72 1.47 1.35L5.41 20z\"/>\n",
              "  </svg>\n",
              "      </button>\n",
              "      \n",
              "  <style>\n",
              "    .colab-df-container {\n",
              "      display:flex;\n",
              "      flex-wrap:wrap;\n",
              "      gap: 12px;\n",
              "    }\n",
              "\n",
              "    .colab-df-convert {\n",
              "      background-color: #E8F0FE;\n",
              "      border: none;\n",
              "      border-radius: 50%;\n",
              "      cursor: pointer;\n",
              "      display: none;\n",
              "      fill: #1967D2;\n",
              "      height: 32px;\n",
              "      padding: 0 0 0 0;\n",
              "      width: 32px;\n",
              "    }\n",
              "\n",
              "    .colab-df-convert:hover {\n",
              "      background-color: #E2EBFA;\n",
              "      box-shadow: 0px 1px 2px rgba(60, 64, 67, 0.3), 0px 1px 3px 1px rgba(60, 64, 67, 0.15);\n",
              "      fill: #174EA6;\n",
              "    }\n",
              "\n",
              "    [theme=dark] .colab-df-convert {\n",
              "      background-color: #3B4455;\n",
              "      fill: #D2E3FC;\n",
              "    }\n",
              "\n",
              "    [theme=dark] .colab-df-convert:hover {\n",
              "      background-color: #434B5C;\n",
              "      box-shadow: 0px 1px 3px 1px rgba(0, 0, 0, 0.15);\n",
              "      filter: drop-shadow(0px 1px 2px rgba(0, 0, 0, 0.3));\n",
              "      fill: #FFFFFF;\n",
              "    }\n",
              "  </style>\n",
              "\n",
              "      <script>\n",
              "        const buttonEl =\n",
              "          document.querySelector('#df-9a707b05-80d0-4602-b2a1-60058737a2d9 button.colab-df-convert');\n",
              "        buttonEl.style.display =\n",
              "          google.colab.kernel.accessAllowed ? 'block' : 'none';\n",
              "\n",
              "        async function convertToInteractive(key) {\n",
              "          const element = document.querySelector('#df-9a707b05-80d0-4602-b2a1-60058737a2d9');\n",
              "          const dataTable =\n",
              "            await google.colab.kernel.invokeFunction('convertToInteractive',\n",
              "                                                     [key], {});\n",
              "          if (!dataTable) return;\n",
              "\n",
              "          const docLinkHtml = 'Like what you see? Visit the ' +\n",
              "            '<a target=\"_blank\" href=https://colab.research.google.com/notebooks/data_table.ipynb>data table notebook</a>'\n",
              "            + ' to learn more about interactive tables.';\n",
              "          element.innerHTML = '';\n",
              "          dataTable['output_type'] = 'display_data';\n",
              "          await google.colab.output.renderOutput(dataTable, element);\n",
              "          const docLink = document.createElement('div');\n",
              "          docLink.innerHTML = docLinkHtml;\n",
              "          element.appendChild(docLink);\n",
              "        }\n",
              "      </script>\n",
              "    </div>\n",
              "  </div>\n",
              "  "
            ]
          },
          "metadata": {},
          "execution_count": 175
        }
      ],
      "source": [
        "df.isnull()"
      ]
    },
    {
      "cell_type": "markdown",
      "metadata": {
        "id": "-IMvULrYU--h"
      },
      "source": [
        "**# To display sum of null values in each column of a dataset**\n",
        "\n",
        "\n"
      ]
    },
    {
      "cell_type": "code",
      "execution_count": 176,
      "metadata": {
        "colab": {
          "base_uri": "https://localhost:8080/"
        },
        "id": "WuxV7Cg6IONC",
        "outputId": "0ac4871f-8bf9-4dbb-e3c3-9090cd45f5b7"
      },
      "outputs": [
        {
          "output_type": "execute_result",
          "data": {
            "text/plain": [
              "Duration    0\n",
              "Pulse       0\n",
              "Maxpulse    0\n",
              "Calories    5\n",
              "dtype: int64"
            ]
          },
          "metadata": {},
          "execution_count": 176
        }
      ],
      "source": [
        "df.isnull().sum()     # Calories column contains 5 null values."
      ]
    },
    {
      "cell_type": "markdown",
      "metadata": {
        "id": "SO-H46L4VcCQ"
      },
      "source": [
        "**# To display percentage of null values present in each column of a dataset**\n",
        "\n",
        "\n"
      ]
    },
    {
      "cell_type": "code",
      "execution_count": 177,
      "metadata": {
        "colab": {
          "base_uri": "https://localhost:8080/"
        },
        "id": "SUjGqTNYISJC",
        "outputId": "8bf9d688-8417-47ee-9b57-23cf539af5e3"
      },
      "outputs": [
        {
          "output_type": "execute_result",
          "data": {
            "text/plain": [
              "Duration    0.00000\n",
              "Pulse       0.00000\n",
              "Maxpulse    0.00000\n",
              "Calories    2.95858\n",
              "dtype: float64"
            ]
          },
          "metadata": {},
          "execution_count": 177
        }
      ],
      "source": [
        "df.isnull().sum()/df.shape[0]*100      #Calories column contains around 2.95% null values of entire dataset."
      ]
    },
    {
      "cell_type": "markdown",
      "source": [
        "**# To display sum of values present in each column of a dataset**"
      ],
      "metadata": {
        "id": "R0oRRtCq7tFO"
      }
    },
    {
      "cell_type": "code",
      "execution_count": 178,
      "metadata": {
        "colab": {
          "base_uri": "https://localhost:8080/"
        },
        "id": "X8vQNUbtIlZB",
        "outputId": "21ce4079-986e-4dcf-b5aa-73b5886a28fd"
      },
      "outputs": [
        {
          "output_type": "execute_result",
          "data": {
            "text/plain": [
              "Duration    169\n",
              "Pulse       169\n",
              "Maxpulse    169\n",
              "Calories    164\n",
              "dtype: int64"
            ]
          },
          "metadata": {},
          "execution_count": 178
        }
      ],
      "source": [
        "df.count()   # By count method there were 5 missing values in the Calories column."
      ]
    },
    {
      "cell_type": "markdown",
      "source": [
        "**# To display sum of null values in each column of a dataset using countplot**"
      ],
      "metadata": {
        "id": "kKRPyqGsAl02"
      }
    },
    {
      "cell_type": "code",
      "source": [
        "sns.countplot(y=df.count(),hue=df.columns)     "
      ],
      "metadata": {
        "colab": {
          "base_uri": "https://localhost:8080/",
          "height": 296
        },
        "id": "_rk0HRmj_YvS",
        "outputId": "c957f5d2-2158-4358-8d06-01dc87db3d23"
      },
      "execution_count": 180,
      "outputs": [
        {
          "output_type": "execute_result",
          "data": {
            "text/plain": [
              "<matplotlib.axes._subplots.AxesSubplot at 0x7fd1cf1d0d90>"
            ]
          },
          "metadata": {},
          "execution_count": 180
        },
        {
          "output_type": "display_data",
          "data": {
            "text/plain": [
              "<Figure size 432x288 with 1 Axes>"
            ],
            "image/png": "[encoded data removed]"
          },
          "metadata": {
            "needs_background": "light"
          }
        }
      ]
    },
    {
      "cell_type": "markdown",
      "source": [
        "**# To display null values in a dataset by using heatmap**"
      ],
      "metadata": {
        "id": "J-IHJOFy7-Lv"
      }
    },
    {
      "cell_type": "code",
      "execution_count": 181,
      "metadata": {
        "colab": {
          "base_uri": "https://localhost:8080/",
          "height": 287
        },
        "id": "O7kstvjwIwyy",
        "outputId": "e153e542-e92d-48ab-e5b9-9287c7eb143f"
      },
      "outputs": [
        {
          "output_type": "execute_result",
          "data": {
            "text/plain": [
              "<matplotlib.axes._subplots.AxesSubplot at 0x7fd1cf13ca10>"
            ]
          },
          "metadata": {},
          "execution_count": 181
        },
        {
          "output_type": "display_data",
          "data": {
            "text/plain": [
              "<Figure size 432x288 with 2 Axes>"
            ],
            "image/png": "[encoded data removed]"
          },
          "metadata": {
            "needs_background": "light"
          }
        }
      ],
      "source": [
        "sns.heatmap(df.isnull())"
      ]
    },
    {
      "cell_type": "markdown",
      "source": [
        "**# To display sum of unique values in each column of a dataset**"
      ],
      "metadata": {
        "id": "2GKMljix8O2H"
      }
    },
    {
      "cell_type": "code",
      "execution_count": 182,
      "metadata": {
        "colab": {
          "base_uri": "https://localhost:8080/"
        },
        "id": "GF-sLmQ3QAdq",
        "outputId": "ea689f16-9a0a-4e7a-d942-ee642a937d0f"
      },
      "outputs": [
        {
          "output_type": "execute_result",
          "data": {
            "text/plain": [
              "Duration     16\n",
              "Pulse        47\n",
              "Maxpulse     57\n",
              "Calories    142\n",
              "dtype: int64"
            ]
          },
          "metadata": {},
          "execution_count": 182
        }
      ],
      "source": [
        "df.nunique()"
      ]
    },
    {
      "cell_type": "markdown",
      "source": [
        "**# To display mean value of Calories column of a dataset**"
      ],
      "metadata": {
        "id": "6QOZDK1G92az"
      }
    },
    {
      "cell_type": "code",
      "execution_count": 183,
      "metadata": {
        "colab": {
          "base_uri": "https://localhost:8080/"
        },
        "id": "RTEcfrIhJKzf",
        "outputId": "957905e5-0f78-430d-85f1-3b50e204be81"
      },
      "outputs": [
        {
          "output_type": "execute_result",
          "data": {
            "text/plain": [
              "375.79024390243904"
            ]
          },
          "metadata": {},
          "execution_count": 183
        }
      ],
      "source": [
        "df['Calories'].mean()"
      ]
    },
    {
      "cell_type": "markdown",
      "source": [
        "**# To display median value of Calories column of a dataset**"
      ],
      "metadata": {
        "id": "ry_XZnw--BBT"
      }
    },
    {
      "cell_type": "code",
      "execution_count": 184,
      "metadata": {
        "colab": {
          "base_uri": "https://localhost:8080/"
        },
        "id": "jgXeJg8LJRt2",
        "outputId": "8ed5be2c-bf58-42d1-e475-5737023ac15e"
      },
      "outputs": [
        {
          "output_type": "execute_result",
          "data": {
            "text/plain": [
              "318.6"
            ]
          },
          "metadata": {},
          "execution_count": 184
        }
      ],
      "source": [
        "df['Calories'].median()"
      ]
    },
    {
      "cell_type": "markdown",
      "source": [
        "**# To display mode value of Calories column of a dataset**"
      ],
      "metadata": {
        "id": "SXZH3-oG-EiQ"
      }
    },
    {
      "cell_type": "code",
      "execution_count": 185,
      "metadata": {
        "colab": {
          "base_uri": "https://localhost:8080/"
        },
        "id": "j0ENxr8dJZCr",
        "outputId": "541babb7-e1a1-4790-d6d2-77dee77aa96d"
      },
      "outputs": [
        {
          "output_type": "execute_result",
          "data": {
            "text/plain": [
              "0    300.0\n",
              "dtype: float64"
            ]
          },
          "metadata": {},
          "execution_count": 185
        }
      ],
      "source": [
        "df['Calories'].mode()"
      ]
    },
    {
      "cell_type": "markdown",
      "source": [
        "**# To display vaious values present in Calories column of a dataset**"
      ],
      "metadata": {
        "id": "liEXzQlQ-Ip2"
      }
    },
    {
      "cell_type": "code",
      "execution_count": 186,
      "metadata": {
        "colab": {
          "base_uri": "https://localhost:8080/"
        },
        "id": "WjqTDnOjJg_q",
        "outputId": "b7cbdf8a-05be-4f8a-ed4d-1534e6e2a612"
      },
      "outputs": [
        {
          "output_type": "stream",
          "name": "stdout",
          "text": [
            "409.1\n",
            "479.0\n",
            "340.0\n",
            "282.4\n",
            "406.0\n",
            "300.0\n",
            "374.0\n",
            "253.3\n",
            "195.1\n",
            "269.0\n",
            "329.3\n",
            "250.7\n",
            "345.3\n",
            "379.3\n",
            "275.0\n",
            "215.2\n",
            "300.0\n",
            "nan\n",
            "323.0\n",
            "243.0\n",
            "364.2\n",
            "282.0\n",
            "300.0\n",
            "246.0\n",
            "334.5\n",
            "250.0\n",
            "241.0\n",
            "nan\n",
            "280.0\n",
            "380.3\n",
            "243.0\n",
            "180.1\n",
            "299.0\n",
            "223.0\n",
            "361.0\n",
            "415.0\n",
            "300.0\n",
            "300.0\n",
            "300.0\n",
            "266.0\n",
            "180.1\n",
            "286.0\n",
            "329.4\n",
            "400.0\n",
            "397.0\n",
            "273.0\n",
            "387.6\n",
            "300.0\n",
            "298.0\n",
            "397.6\n",
            "380.2\n",
            "643.1\n",
            "263.0\n",
            "486.0\n",
            "238.0\n",
            "450.7\n",
            "413.0\n",
            "305.0\n",
            "226.4\n",
            "321.0\n",
            "1376.0\n",
            "1034.4\n",
            "853.0\n",
            "341.0\n",
            "131.4\n",
            "800.4\n",
            "873.4\n",
            "816.0\n",
            "110.4\n",
            "1500.2\n",
            "1115.0\n",
            "387.6\n",
            "700.0\n",
            "953.2\n",
            "304.0\n",
            "563.2\n",
            "251.0\n",
            "300.0\n",
            "500.4\n",
            "1729.0\n",
            "319.2\n",
            "344.0\n",
            "151.1\n",
            "500.0\n",
            "225.3\n",
            "300.0\n",
            "234.0\n",
            "1000.1\n",
            "242.0\n",
            "50.3\n",
            "600.1\n",
            "nan\n",
            "105.3\n",
            "50.5\n",
            "127.4\n",
            "229.4\n",
            "128.2\n",
            "244.2\n",
            "188.2\n",
            "604.1\n",
            "77.7\n",
            "500.0\n",
            "500.0\n",
            "500.4\n",
            "92.7\n",
            "124.0\n",
            "800.3\n",
            "86.2\n",
            "500.3\n",
            "1860.4\n",
            "325.2\n",
            "275.0\n",
            "124.2\n",
            "225.3\n",
            "367.6\n",
            "351.7\n",
            "443.0\n",
            "277.4\n",
            "nan\n",
            "332.7\n",
            "193.9\n",
            "100.7\n",
            "336.7\n",
            "344.9\n",
            "368.5\n",
            "271.0\n",
            "275.3\n",
            "382.0\n",
            "466.4\n",
            "384.0\n",
            "342.5\n",
            "357.5\n",
            "335.0\n",
            "327.5\n",
            "339.0\n",
            "189.0\n",
            "317.7\n",
            "318.0\n",
            "308.0\n",
            "222.4\n",
            "390.0\n",
            "nan\n",
            "250.4\n",
            "335.4\n",
            "470.2\n",
            "270.8\n",
            "400.0\n",
            "361.9\n",
            "185.0\n",
            "409.4\n",
            "343.0\n",
            "353.2\n",
            "374.0\n",
            "275.8\n",
            "328.0\n",
            "368.5\n",
            "270.4\n",
            "270.4\n",
            "382.8\n",
            "240.9\n",
            "250.4\n",
            "260.4\n",
            "270.0\n",
            "280.9\n",
            "290.8\n",
            "300.0\n",
            "310.2\n",
            "320.4\n",
            "330.4\n"
          ]
        }
      ],
      "source": [
        "for i in df['Calories']:\n",
        "    print(i)"
      ]
    },
    {
      "cell_type": "markdown",
      "source": [
        "**# To fill null values present in calories column by using median of calories column of a dataset**"
      ],
      "metadata": {
        "id": "pdqKIMEQ-Reh"
      }
    },
    {
      "cell_type": "markdown",
      "source": [
        "As Calories column contains 5 missing values and we can fill these missing values by measure of central-tendency methods and I was using median method to fill missing values.  *italicized text*"
      ],
      "metadata": {
        "id": "Caf7rdvKDwEU"
      }
    },
    {
      "cell_type": "code",
      "execution_count": 187,
      "metadata": {
        "id": "brZmuXQ1NW18"
      },
      "outputs": [],
      "source": [
        "df['Calories']=df['Calories'].fillna(df['Calories'].median())"
      ]
    },
    {
      "cell_type": "markdown",
      "source": [
        "**# To display sum of null values in each column of a dataset**"
      ],
      "metadata": {
        "id": "voX6M5eK-l7O"
      }
    },
    {
      "cell_type": "code",
      "execution_count": 188,
      "metadata": {
        "colab": {
          "base_uri": "https://localhost:8080/"
        },
        "id": "vZCrdiL9Nk7j",
        "outputId": "d44a6d5f-32b2-492e-d753-a9040e21dd11"
      },
      "outputs": [
        {
          "output_type": "execute_result",
          "data": {
            "text/plain": [
              "Duration    0\n",
              "Pulse       0\n",
              "Maxpulse    0\n",
              "Calories    0\n",
              "dtype: int64"
            ]
          },
          "metadata": {},
          "execution_count": 188
        }
      ],
      "source": [
        "df.isnull().sum()     # No missing values after being filled with median value."
      ]
    },
    {
      "cell_type": "markdown",
      "source": [
        "**# To display sum of null values in each column of a dataset by using heatmap**"
      ],
      "metadata": {
        "id": "5UTaSPU2-xhf"
      }
    },
    {
      "cell_type": "code",
      "execution_count": null,
      "metadata": {
        "colab": {
          "base_uri": "https://localhost:8080/",
          "height": 287
        },
        "id": "Jacl74jVQRa5",
        "outputId": "df9d3970-6701-4a7b-a15f-3845e13261bd"
      },
      "outputs": [
        {
          "data": {
            "text/plain": [
              "<matplotlib.axes._subplots.AxesSubplot at 0x7fd1d41cb750>"
            ]
          },
          "execution_count": 31,
          "metadata": {},
          "output_type": "execute_result"
        },
        {
          "data": {
            "image/png": "[encoded data removed]",
            "text/plain": [
              "<Figure size 432x288 with 2 Axes>"
            ]
          },
          "metadata": {},
          "output_type": "display_data"
        }
      ],
      "source": [
        "sns.heatmap(df.isnull())"
      ]
    },
    {
      "cell_type": "markdown",
      "source": [
        "**# To dispaly count of values of each column in a dataset**"
      ],
      "metadata": {
        "id": "WSL9GcYx_AUT"
      }
    },
    {
      "cell_type": "code",
      "source": [
        "df.count()"
      ],
      "metadata": {
        "colab": {
          "base_uri": "https://localhost:8080/"
        },
        "id": "rSH-6NoV-76j",
        "outputId": "5e2eadf6-e2d5-48bd-a072-62e88f7bd429"
      },
      "execution_count": 157,
      "outputs": [
        {
          "output_type": "execute_result",
          "data": {
            "text/plain": [
              "Duration    169\n",
              "Pulse       169\n",
              "Maxpulse    169\n",
              "Calories    169\n",
              "dtype: int64"
            ]
          },
          "metadata": {},
          "execution_count": 157
        }
      ]
    },
    {
      "cell_type": "markdown",
      "source": [
        "**# To display sum of null values in each column of a dataset using countplot**"
      ],
      "metadata": {
        "id": "d0eaT5pFAzTn"
      }
    },
    {
      "cell_type": "code",
      "source": [
        "sns.countplot(df.count(),hue=df.columns)"
      ],
      "metadata": {
        "colab": {
          "base_uri": "https://localhost:8080/",
          "height": 337
        },
        "id": "oTmAYo_8A2DK",
        "outputId": "df84808c-9529-4036-d6e7-4fcfe9b9ec3b"
      },
      "execution_count": 190,
      "outputs": [
        {
          "output_type": "stream",
          "name": "stderr",
          "text": [
            "/usr/local/lib/python3.7/dist-packages/seaborn/_decorators.py:43: FutureWarning: Pass the following variable as a keyword arg: x. From version 0.12, the only valid positional argument will be `data`, and passing other arguments without an explicit keyword will result in an error or misinterpretation.\n",
            "  FutureWarning\n"
          ]
        },
        {
          "output_type": "execute_result",
          "data": {
            "text/plain": [
              "<matplotlib.axes._subplots.AxesSubplot at 0x7fd1cf054d10>"
            ]
          },
          "metadata": {},
          "execution_count": 190
        },
        {
          "output_type": "display_data",
          "data": {
            "text/plain": [
              "<Figure size 432x288 with 1 Axes>"
            ],
            "image/png": "[encoded data removed]"
          },
          "metadata": {
            "needs_background": "light"
          }
        }
      ]
    },
    {
      "cell_type": "markdown",
      "source": [
        "**# To dispaly correlation values in each column of a dataset**"
      ],
      "metadata": {
        "id": "Ur7vRFjXBLn-"
      }
    },
    {
      "cell_type": "code",
      "execution_count": null,
      "metadata": {
        "colab": {
          "base_uri": "https://localhost:8080/",
          "height": 175
        },
        "id": "vK4m6ESkLPjp",
        "outputId": "4e1448b7-91f1-4524-8bd2-ff6cd8005396"
      },
      "outputs": [
        {
          "data": {
            "text/html": [
              "\n",
              "  <div id=\"df-d397e7e6-152a-4434-9187-1b3e21eee463\">\n",
              "    <div class=\"colab-df-container\">\n",
              "      <div>\n",
              "<style scoped>\n",
              "    .dataframe tbody tr th:only-of-type {\n",
              "        vertical-align: middle;\n",
              "    }\n",
              "\n",
              "    .dataframe tbody tr th {\n",
              "        vertical-align: top;\n",
              "    }\n",
              "\n",
              "    .dataframe thead th {\n",
              "        text-align: right;\n",
              "    }\n",
              "</style>\n",
              "<table border=\"1\" class=\"dataframe\">\n",
              "  <thead>\n",
              "    <tr style=\"text-align: right;\">\n",
              "      <th></th>\n",
              "      <th>Duration</th>\n",
              "      <th>Pulse</th>\n",
              "      <th>Maxpulse</th>\n",
              "      <th>Calories</th>\n",
              "    </tr>\n",
              "  </thead>\n",
              "  <tbody>\n",
              "    <tr>\n",
              "      <th>Duration</th>\n",
              "      <td>1.000000</td>\n",
              "      <td>-0.155408</td>\n",
              "      <td>0.009403</td>\n",
              "      <td>0.922412</td>\n",
              "    </tr>\n",
              "    <tr>\n",
              "      <th>Pulse</th>\n",
              "      <td>-0.155408</td>\n",
              "      <td>1.000000</td>\n",
              "      <td>0.786535</td>\n",
              "      <td>0.028099</td>\n",
              "    </tr>\n",
              "    <tr>\n",
              "      <th>Maxpulse</th>\n",
              "      <td>0.009403</td>\n",
              "      <td>0.786535</td>\n",
              "      <td>1.000000</td>\n",
              "      <td>0.205172</td>\n",
              "    </tr>\n",
              "    <tr>\n",
              "      <th>Calories</th>\n",
              "      <td>0.922412</td>\n",
              "      <td>0.028099</td>\n",
              "      <td>0.205172</td>\n",
              "      <td>1.000000</td>\n",
              "    </tr>\n",
              "  </tbody>\n",
              "</table>\n",
              "</div>\n",
              "      <button class=\"colab-df-convert\" onclick=\"convertToInteractive('df-d397e7e6-152a-4434-9187-1b3e21eee463')\"\n",
              "              title=\"Convert this dataframe to an interactive table.\"\n",
              "              style=\"display:none;\">\n",
              "        \n",
              "  <svg xmlns=\"http://www.w3.org/2000/svg\" height=\"24px\"viewBox=\"0 0 24 24\"\n",
              "       width=\"24px\">\n",
              "    <path d=\"M0 0h24v24H0V0z\" fill=\"none\"/>\n",
              "    <path d=\"M18.56 5.44l.94 2.06.94-2.06 2.06-.94-2.06-.94-.94-2.06-.94 2.06-2.06.94zm-11 1L8.5 8.5l.94-2.06 2.06-.94-2.06-.94L8.5 2.5l-.94 2.06-2.06.94zm10 10l.94 2.06.94-2.06 2.06-.94-2.06-.94-.94-2.06-.94 2.06-2.06.94z\"/><path d=\"M17.41 7.96l-1.37-1.37c-.4-.4-.92-.59-1.43-.59-.52 0-1.04.2-1.43.59L10.3 9.45l-7.72 7.72c-.78.78-.78 2.05 0 2.83L4 21.41c.39.39.9.59 1.41.59.51 0 1.02-.2 1.41-.59l7.78-7.78 2.81-2.81c.8-.78.8-2.07 0-2.86zM5.41 20L4 18.59l7.72-7.72 1.47 1.35L5.41 20z\"/>\n",
              "  </svg>\n",
              "      </button>\n",
              "      \n",
              "  <style>\n",
              "    .colab-df-container {\n",
              "      display:flex;\n",
              "      flex-wrap:wrap;\n",
              "      gap: 12px;\n",
              "    }\n",
              "\n",
              "    .colab-df-convert {\n",
              "      background-color: #E8F0FE;\n",
              "      border: none;\n",
              "      border-radius: 50%;\n",
              "      cursor: pointer;\n",
              "      display: none;\n",
              "      fill: #1967D2;\n",
              "      height: 32px;\n",
              "      padding: 0 0 0 0;\n",
              "      width: 32px;\n",
              "    }\n",
              "\n",
              "    .colab-df-convert:hover {\n",
              "      background-color: #E2EBFA;\n",
              "      box-shadow: 0px 1px 2px rgba(60, 64, 67, 0.3), 0px 1px 3px 1px rgba(60, 64, 67, 0.15);\n",
              "      fill: #174EA6;\n",
              "    }\n",
              "\n",
              "    [theme=dark] .colab-df-convert {\n",
              "      background-color: #3B4455;\n",
              "      fill: #D2E3FC;\n",
              "    }\n",
              "\n",
              "    [theme=dark] .colab-df-convert:hover {\n",
              "      background-color: #434B5C;\n",
              "      box-shadow: 0px 1px 3px 1px rgba(0, 0, 0, 0.15);\n",
              "      filter: drop-shadow(0px 1px 2px rgba(0, 0, 0, 0.3));\n",
              "      fill: #FFFFFF;\n",
              "    }\n",
              "  </style>\n",
              "\n",
              "      <script>\n",
              "        const buttonEl =\n",
              "          document.querySelector('#df-d397e7e6-152a-4434-9187-1b3e21eee463 button.colab-df-convert');\n",
              "        buttonEl.style.display =\n",
              "          google.colab.kernel.accessAllowed ? 'block' : 'none';\n",
              "\n",
              "        async function convertToInteractive(key) {\n",
              "          const element = document.querySelector('#df-d397e7e6-152a-4434-9187-1b3e21eee463');\n",
              "          const dataTable =\n",
              "            await google.colab.kernel.invokeFunction('convertToInteractive',\n",
              "                                                     [key], {});\n",
              "          if (!dataTable) return;\n",
              "\n",
              "          const docLinkHtml = 'Like what you see? Visit the ' +\n",
              "            '<a target=\"_blank\" href=https://colab.research.google.com/notebooks/data_table.ipynb>data table notebook</a>'\n",
              "            + ' to learn more about interactive tables.';\n",
              "          element.innerHTML = '';\n",
              "          dataTable['output_type'] = 'display_data';\n",
              "          await google.colab.output.renderOutput(dataTable, element);\n",
              "          const docLink = document.createElement('div');\n",
              "          docLink.innerHTML = docLinkHtml;\n",
              "          element.appendChild(docLink);\n",
              "        }\n",
              "      </script>\n",
              "    </div>\n",
              "  </div>\n",
              "  "
            ],
            "text/plain": [
              "          Duration     Pulse  Maxpulse  Calories\n",
              "Duration  1.000000 -0.155408  0.009403  0.922412\n",
              "Pulse    -0.155408  1.000000  0.786535  0.028099\n",
              "Maxpulse  0.009403  0.786535  1.000000  0.205172\n",
              "Calories  0.922412  0.028099  0.205172  1.000000"
            ]
          },
          "execution_count": 68,
          "metadata": {},
          "output_type": "execute_result"
        }
      ],
      "source": [
        "df.corr()"
      ]
    },
    {
      "cell_type": "markdown",
      "source": [
        "**# To dispaly covariance values in each column of a dataset**"
      ],
      "metadata": {
        "id": "rEw8eJsjBfeF"
      }
    },
    {
      "cell_type": "code",
      "execution_count": null,
      "metadata": {
        "colab": {
          "base_uri": "https://localhost:8080/",
          "height": 175
        },
        "id": "gEMbcR5RLVRJ",
        "outputId": "05015a88-fe03-455a-febc-63541dc4e352"
      },
      "outputs": [
        {
          "data": {
            "text/html": [
              "\n",
              "  <div id=\"df-5831ac6d-3b41-4578-af55-4d6fd4f4fc53\">\n",
              "    <div class=\"colab-df-container\">\n",
              "      <div>\n",
              "<style scoped>\n",
              "    .dataframe tbody tr th:only-of-type {\n",
              "        vertical-align: middle;\n",
              "    }\n",
              "\n",
              "    .dataframe tbody tr th {\n",
              "        vertical-align: top;\n",
              "    }\n",
              "\n",
              "    .dataframe thead th {\n",
              "        text-align: right;\n",
              "    }\n",
              "</style>\n",
              "<table border=\"1\" class=\"dataframe\">\n",
              "  <thead>\n",
              "    <tr style=\"text-align: right;\">\n",
              "      <th></th>\n",
              "      <th>Duration</th>\n",
              "      <th>Pulse</th>\n",
              "      <th>Maxpulse</th>\n",
              "      <th>Calories</th>\n",
              "    </tr>\n",
              "  </thead>\n",
              "  <tbody>\n",
              "    <tr>\n",
              "      <th>Duration</th>\n",
              "      <td>1789.285714</td>\n",
              "      <td>-95.386905</td>\n",
              "      <td>6.543040</td>\n",
              "      <td>10244.795559</td>\n",
              "    </tr>\n",
              "    <tr>\n",
              "      <th>Pulse</th>\n",
              "      <td>-95.386905</td>\n",
              "      <td>210.547619</td>\n",
              "      <td>187.745879</td>\n",
              "      <td>107.054991</td>\n",
              "    </tr>\n",
              "    <tr>\n",
              "      <th>Maxpulse</th>\n",
              "      <td>6.543040</td>\n",
              "      <td>187.745879</td>\n",
              "      <td>270.616793</td>\n",
              "      <td>886.204251</td>\n",
              "    </tr>\n",
              "    <tr>\n",
              "      <th>Calories</th>\n",
              "      <td>10244.795559</td>\n",
              "      <td>107.054991</td>\n",
              "      <td>886.204251</td>\n",
              "      <td>68940.871366</td>\n",
              "    </tr>\n",
              "  </tbody>\n",
              "</table>\n",
              "</div>\n",
              "      <button class=\"colab-df-convert\" onclick=\"convertToInteractive('df-5831ac6d-3b41-4578-af55-4d6fd4f4fc53')\"\n",
              "              title=\"Convert this dataframe to an interactive table.\"\n",
              "              style=\"display:none;\">\n",
              "        \n",
              "  <svg xmlns=\"http://www.w3.org/2000/svg\" height=\"24px\"viewBox=\"0 0 24 24\"\n",
              "       width=\"24px\">\n",
              "    <path d=\"M0 0h24v24H0V0z\" fill=\"none\"/>\n",
              "    <path d=\"M18.56 5.44l.94 2.06.94-2.06 2.06-.94-2.06-.94-.94-2.06-.94 2.06-2.06.94zm-11 1L8.5 8.5l.94-2.06 2.06-.94-2.06-.94L8.5 2.5l-.94 2.06-2.06.94zm10 10l.94 2.06.94-2.06 2.06-.94-2.06-.94-.94-2.06-.94 2.06-2.06.94z\"/><path d=\"M17.41 7.96l-1.37-1.37c-.4-.4-.92-.59-1.43-.59-.52 0-1.04.2-1.43.59L10.3 9.45l-7.72 7.72c-.78.78-.78 2.05 0 2.83L4 21.41c.39.39.9.59 1.41.59.51 0 1.02-.2 1.41-.59l7.78-7.78 2.81-2.81c.8-.78.8-2.07 0-2.86zM5.41 20L4 18.59l7.72-7.72 1.47 1.35L5.41 20z\"/>\n",
              "  </svg>\n",
              "      </button>\n",
              "      \n",
              "  <style>\n",
              "    .colab-df-container {\n",
              "      display:flex;\n",
              "      flex-wrap:wrap;\n",
              "      gap: 12px;\n",
              "    }\n",
              "\n",
              "    .colab-df-convert {\n",
              "      background-color: #E8F0FE;\n",
              "      border: none;\n",
              "      border-radius: 50%;\n",
              "      cursor: pointer;\n",
              "      display: none;\n",
              "      fill: #1967D2;\n",
              "      height: 32px;\n",
              "      padding: 0 0 0 0;\n",
              "      width: 32px;\n",
              "    }\n",
              "\n",
              "    .colab-df-convert:hover {\n",
              "      background-color: #E2EBFA;\n",
              "      box-shadow: 0px 1px 2px rgba(60, 64, 67, 0.3), 0px 1px 3px 1px rgba(60, 64, 67, 0.15);\n",
              "      fill: #174EA6;\n",
              "    }\n",
              "\n",
              "    [theme=dark] .colab-df-convert {\n",
              "      background-color: #3B4455;\n",
              "      fill: #D2E3FC;\n",
              "    }\n",
              "\n",
              "    [theme=dark] .colab-df-convert:hover {\n",
              "      background-color: #434B5C;\n",
              "      box-shadow: 0px 1px 3px 1px rgba(0, 0, 0, 0.15);\n",
              "      filter: drop-shadow(0px 1px 2px rgba(0, 0, 0, 0.3));\n",
              "      fill: #FFFFFF;\n",
              "    }\n",
              "  </style>\n",
              "\n",
              "      <script>\n",
              "        const buttonEl =\n",
              "          document.querySelector('#df-5831ac6d-3b41-4578-af55-4d6fd4f4fc53 button.colab-df-convert');\n",
              "        buttonEl.style.display =\n",
              "          google.colab.kernel.accessAllowed ? 'block' : 'none';\n",
              "\n",
              "        async function convertToInteractive(key) {\n",
              "          const element = document.querySelector('#df-5831ac6d-3b41-4578-af55-4d6fd4f4fc53');\n",
              "          const dataTable =\n",
              "            await google.colab.kernel.invokeFunction('convertToInteractive',\n",
              "                                                     [key], {});\n",
              "          if (!dataTable) return;\n",
              "\n",
              "          const docLinkHtml = 'Like what you see? Visit the ' +\n",
              "            '<a target=\"_blank\" href=https://colab.research.google.com/notebooks/data_table.ipynb>data table notebook</a>'\n",
              "            + ' to learn more about interactive tables.';\n",
              "          element.innerHTML = '';\n",
              "          dataTable['output_type'] = 'display_data';\n",
              "          await google.colab.output.renderOutput(dataTable, element);\n",
              "          const docLink = document.createElement('div');\n",
              "          docLink.innerHTML = docLinkHtml;\n",
              "          element.appendChild(docLink);\n",
              "        }\n",
              "      </script>\n",
              "    </div>\n",
              "  </div>\n",
              "  "
            ],
            "text/plain": [
              "              Duration       Pulse    Maxpulse      Calories\n",
              "Duration   1789.285714  -95.386905    6.543040  10244.795559\n",
              "Pulse       -95.386905  210.547619  187.745879    107.054991\n",
              "Maxpulse      6.543040  187.745879  270.616793    886.204251\n",
              "Calories  10244.795559  107.054991  886.204251  68940.871366"
            ]
          },
          "execution_count": 69,
          "metadata": {},
          "output_type": "execute_result"
        }
      ],
      "source": [
        "df.cov()"
      ]
    },
    {
      "cell_type": "markdown",
      "source": [
        "**# To dispaly skewness values in each column of a dataset**"
      ],
      "metadata": {
        "id": "ijlnnK9oBxA2"
      }
    },
    {
      "cell_type": "code",
      "execution_count": null,
      "metadata": {
        "colab": {
          "base_uri": "https://localhost:8080/"
        },
        "id": "WCCcx3YLLkHq",
        "outputId": "b2197d94-0af3-4738-f236-b007e00fe02a"
      },
      "outputs": [
        {
          "data": {
            "text/plain": [
              "Duration    2.863888\n",
              "Pulse       1.418405\n",
              "Maxpulse    0.701439\n",
              "Calories    3.161044\n",
              "dtype: float64"
            ]
          },
          "execution_count": 70,
          "metadata": {},
          "output_type": "execute_result"
        }
      ],
      "source": [
        "df.skew()"
      ]
    },
    {
      "cell_type": "markdown",
      "metadata": {
        "id": "La_j-NyJRT_D"
      },
      "source": [
        "**# To plot pairplots of dataframe**"
      ]
    },
    {
      "cell_type": "code",
      "execution_count": null,
      "metadata": {
        "colab": {
          "base_uri": "https://localhost:8080/",
          "height": 743
        },
        "id": "9RctFA8XQIe5",
        "outputId": "2979762f-d4cb-4313-91db-cbe655114993"
      },
      "outputs": [
        {
          "data": {
            "text/plain": [
              "<seaborn.axisgrid.PairGrid at 0x7fd1d4c19c90>"
            ]
          },
          "execution_count": 30,
          "metadata": {},
          "output_type": "execute_result"
        },
        {
          "data": {
            "image/png": "[encoded data removed]",
            "text/plain": [
              "<Figure size 720x720 with 20 Axes>"
            ]
          },
          "metadata": {},
          "output_type": "display_data"
        }
      ],
      "source": [
        "sns.pairplot(df)"
      ]
    },
    {
      "cell_type": "markdown",
      "source": [
        "**# To plot various distplots of dataset**"
      ],
      "metadata": {
        "id": "Sq0OPTdsCDqs"
      }
    },
    {
      "cell_type": "code",
      "execution_count": null,
      "metadata": {
        "colab": {
          "base_uri": "https://localhost:8080/",
          "height": 351
        },
        "id": "CUJa-JfuL4pR",
        "outputId": "4b8f32fa-caab-485f-e526-93985c120952"
      },
      "outputs": [
        {
          "name": "stderr",
          "output_type": "stream",
          "text": [
            "/usr/local/lib/python3.7/dist-packages/seaborn/distributions.py:2619: FutureWarning: `distplot` is a deprecated function and will be removed in a future version. Please adapt your code to use either `displot` (a figure-level function with similar flexibility) or `histplot` (an axes-level function for histograms).\n",
            "  warnings.warn(msg, FutureWarning)\n"
          ]
        },
        {
          "data": {
            "text/plain": [
              "<matplotlib.axes._subplots.AxesSubplot at 0x7fd1a4de6e10>"
            ]
          },
          "execution_count": 71,
          "metadata": {},
          "output_type": "execute_result"
        },
        {
          "data": {
            "image/png": "[encoded data removed]",
            "text/plain": [
              "<Figure size 432x288 with 1 Axes>"
            ]
          },
          "metadata": {},
          "output_type": "display_data"
        }
      ],
      "source": [
        "sns.distplot(df['Duration'])"
      ]
    },
    {
      "cell_type": "code",
      "execution_count": null,
      "metadata": {
        "colab": {
          "base_uri": "https://localhost:8080/",
          "height": 351
        },
        "id": "QxOlMegbMn1x",
        "outputId": "3bc024bd-83a0-4d18-c13f-0e52d3d0303d"
      },
      "outputs": [
        {
          "name": "stderr",
          "output_type": "stream",
          "text": [
            "/usr/local/lib/python3.7/dist-packages/seaborn/distributions.py:2619: FutureWarning: `distplot` is a deprecated function and will be removed in a future version. Please adapt your code to use either `displot` (a figure-level function with similar flexibility) or `histplot` (an axes-level function for histograms).\n",
            "  warnings.warn(msg, FutureWarning)\n"
          ]
        },
        {
          "data": {
            "text/plain": [
              "<matplotlib.axes._subplots.AxesSubplot at 0x7fd1a4d6a690>"
            ]
          },
          "execution_count": 72,
          "metadata": {},
          "output_type": "execute_result"
        },
        {
          "data": {
            "image/png": "[encoded data removed]",
            "text/plain": [
              "<Figure size 432x288 with 1 Axes>"
            ]
          },
          "metadata": {},
          "output_type": "display_data"
        }
      ],
      "source": [
        "sns.distplot(df['Pulse'])"
      ]
    },
    {
      "cell_type": "code",
      "execution_count": null,
      "metadata": {
        "colab": {
          "base_uri": "https://localhost:8080/",
          "height": 351
        },
        "id": "VRCC-sSYP-DS",
        "outputId": "45f92b8e-e856-44d2-83da-0dc9db19f05f"
      },
      "outputs": [
        {
          "name": "stderr",
          "output_type": "stream",
          "text": [
            "/usr/local/lib/python3.7/dist-packages/seaborn/distributions.py:2619: FutureWarning: `distplot` is a deprecated function and will be removed in a future version. Please adapt your code to use either `displot` (a figure-level function with similar flexibility) or `histplot` (an axes-level function for histograms).\n",
            "  warnings.warn(msg, FutureWarning)\n"
          ]
        },
        {
          "data": {
            "text/plain": [
              "<matplotlib.axes._subplots.AxesSubplot at 0x7fd1d4c01ad0>"
            ]
          },
          "execution_count": 29,
          "metadata": {},
          "output_type": "execute_result"
        },
        {
          "data": {
            "image/png": "[encoded data removed]",
            "text/plain": [
              "<Figure size 432x288 with 1 Axes>"
            ]
          },
          "metadata": {},
          "output_type": "display_data"
        }
      ],
      "source": [
        "sns.distplot(df['Maxpulse'])"
      ]
    },
    {
      "cell_type": "code",
      "execution_count": null,
      "metadata": {
        "colab": {
          "base_uri": "https://localhost:8080/",
          "height": 351
        },
        "id": "-w1jTU-3Mz0y",
        "outputId": "f15429a6-83be-4878-dc70-816536d01a67"
      },
      "outputs": [
        {
          "name": "stderr",
          "output_type": "stream",
          "text": [
            "/usr/local/lib/python3.7/dist-packages/seaborn/distributions.py:2619: FutureWarning: `distplot` is a deprecated function and will be removed in a future version. Please adapt your code to use either `displot` (a figure-level function with similar flexibility) or `histplot` (an axes-level function for histograms).\n",
            "  warnings.warn(msg, FutureWarning)\n"
          ]
        },
        {
          "data": {
            "text/plain": [
              "<matplotlib.axes._subplots.AxesSubplot at 0x7fd1a4ce18d0>"
            ]
          },
          "execution_count": 73,
          "metadata": {},
          "output_type": "execute_result"
        },
        {
          "data": {
            "image/png": "[encoded data removed]",
            "text/plain": [
              "<Figure size 432x288 with 1 Axes>"
            ]
          },
          "metadata": {},
          "output_type": "display_data"
        }
      ],
      "source": [
        "sns.distplot(df['Calories'])"
      ]
    },
    {
      "cell_type": "markdown",
      "source": [
        "**# To plot various boxplots of dataset**"
      ],
      "metadata": {
        "id": "Lqc90FzWCMvu"
      }
    },
    {
      "cell_type": "code",
      "execution_count": null,
      "metadata": {
        "colab": {
          "base_uri": "https://localhost:8080/",
          "height": 351
        },
        "id": "qvTLZWsCPGs0",
        "outputId": "86f2cc74-2eaa-48d2-c6b4-dcf58883cd0d"
      },
      "outputs": [
        {
          "name": "stderr",
          "output_type": "stream",
          "text": [
            "/usr/local/lib/python3.7/dist-packages/seaborn/_decorators.py:43: FutureWarning: Pass the following variable as a keyword arg: x. From version 0.12, the only valid positional argument will be `data`, and passing other arguments without an explicit keyword will result in an error or misinterpretation.\n",
            "  FutureWarning\n"
          ]
        },
        {
          "data": {
            "text/plain": [
              "<matplotlib.axes._subplots.AxesSubplot at 0x7fd1d26af2d0>"
            ]
          },
          "execution_count": 33,
          "metadata": {},
          "output_type": "execute_result"
        },
        {
          "data": {
            "image/png": "[encoded data removed]",
            "text/plain": [
              "<Figure size 432x288 with 1 Axes>"
            ]
          },
          "metadata": {},
          "output_type": "display_data"
        }
      ],
      "source": [
        "sns.boxplot(df['Duration'])"
      ]
    },
    {
      "cell_type": "code",
      "execution_count": null,
      "metadata": {
        "colab": {
          "base_uri": "https://localhost:8080/",
          "height": 351
        },
        "id": "MUCxZ9ceQ-ZS",
        "outputId": "39cec3c1-5648-41fc-f7f4-c26f21bd4c78"
      },
      "outputs": [
        {
          "name": "stderr",
          "output_type": "stream",
          "text": [
            "/usr/local/lib/python3.7/dist-packages/seaborn/_decorators.py:43: FutureWarning: Pass the following variable as a keyword arg: x. From version 0.12, the only valid positional argument will be `data`, and passing other arguments without an explicit keyword will result in an error or misinterpretation.\n",
            "  FutureWarning\n"
          ]
        },
        {
          "data": {
            "text/plain": [
              "<matplotlib.axes._subplots.AxesSubplot at 0x7fd1d2491f10>"
            ]
          },
          "execution_count": 37,
          "metadata": {},
          "output_type": "execute_result"
        },
        {
          "data": {
            "image/png": "[encoded data removed]",
            "text/plain": [
              "<Figure size 432x288 with 1 Axes>"
            ]
          },
          "metadata": {},
          "output_type": "display_data"
        }
      ],
      "source": [
        "sns.boxplot(df['Pulse'])"
      ]
    },
    {
      "cell_type": "code",
      "execution_count": null,
      "metadata": {
        "colab": {
          "base_uri": "https://localhost:8080/",
          "height": 351
        },
        "id": "dEx5KEt-QqoG",
        "outputId": "5aa1d78f-7d7c-469b-cbeb-9bff83b9316c"
      },
      "outputs": [
        {
          "name": "stderr",
          "output_type": "stream",
          "text": [
            "/usr/local/lib/python3.7/dist-packages/seaborn/_decorators.py:43: FutureWarning: Pass the following variable as a keyword arg: x. From version 0.12, the only valid positional argument will be `data`, and passing other arguments without an explicit keyword will result in an error or misinterpretation.\n",
            "  FutureWarning\n"
          ]
        },
        {
          "data": {
            "text/plain": [
              "<matplotlib.axes._subplots.AxesSubplot at 0x7fd1d288e2d0>"
            ]
          },
          "execution_count": 35,
          "metadata": {},
          "output_type": "execute_result"
        },
        {
          "data": {
            "image/png": "[encoded data removed]",
            "text/plain": [
              "<Figure size 432x288 with 1 Axes>"
            ]
          },
          "metadata": {},
          "output_type": "display_data"
        }
      ],
      "source": [
        "sns.boxplot(df['Maxpulse'])"
      ]
    },
    {
      "cell_type": "code",
      "execution_count": null,
      "metadata": {
        "colab": {
          "base_uri": "https://localhost:8080/",
          "height": 351
        },
        "id": "LEn7KcHBPOeL",
        "outputId": "7eb379f5-0574-42d9-83e0-00b38920041f"
      },
      "outputs": [
        {
          "name": "stderr",
          "output_type": "stream",
          "text": [
            "/usr/local/lib/python3.7/dist-packages/seaborn/_decorators.py:43: FutureWarning: Pass the following variable as a keyword arg: x. From version 0.12, the only valid positional argument will be `data`, and passing other arguments without an explicit keyword will result in an error or misinterpretation.\n",
            "  FutureWarning\n"
          ]
        },
        {
          "data": {
            "text/plain": [
              "<matplotlib.axes._subplots.AxesSubplot at 0x7fd1d4c3bb10>"
            ]
          },
          "execution_count": 24,
          "metadata": {},
          "output_type": "execute_result"
        },
        {
          "data": {
            "image/png": "[encoded data removed]",
            "text/plain": [
              "<Figure size 432x288 with 1 Axes>"
            ]
          },
          "metadata": {},
          "output_type": "display_data"
        }
      ],
      "source": [
        "sns.boxplot(df['Calories'])"
      ]
    }
  ],
  "metadata": {
    "colab": {
      "collapsed_sections": [],
      "provenance": []
    },
    "kernelspec": {
      "display_name": "Python 3",
      "name": "python3"
    },
    "language_info": {
      "name": "python"
    }
  },
  "nbformat": 4,
  "nbformat_minor": 0
}